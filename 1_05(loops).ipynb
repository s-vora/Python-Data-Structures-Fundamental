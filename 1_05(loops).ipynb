{
  "nbformat": 4,
  "nbformat_minor": 0,
  "metadata": {
    "colab": {
      "name": "1.05(loops).ipynb",
      "provenance": [],
      "collapsed_sections": []
    },
    "kernelspec": {
      "name": "python3",
      "display_name": "Python 3"
    }
  },
  "cells": [
    {
      "cell_type": "markdown",
      "metadata": {
        "id": "-rtVEdS0qj_v"
      },
      "source": [
        "### if...elif...else"
      ]
    },
    {
      "cell_type": "code",
      "metadata": {
        "id": "qx_kcoAsp-LR",
        "colab": {
          "base_uri": "https://localhost:8080/"
        },
        "outputId": "12668ab7-b8e3-4c92-f40d-aac2be0c9f2a"
      },
      "source": [
        "num = 10\n",
        "if num == 10:\n",
        "  print(\"number is greater\")\n",
        "print(\"this will always print irrespctive of if/else\")"
      ],
      "execution_count": 2,
      "outputs": [
        {
          "output_type": "stream",
          "text": [
            "number is greater\n",
            "this will always print irrespctive of if/else\n"
          ],
          "name": "stdout"
        }
      ]
    },
    {
      "cell_type": "code",
      "metadata": {
        "id": "nyJHR1SfsG4v",
        "colab": {
          "base_uri": "https://localhost:8080/"
        },
        "outputId": "be1f68f4-e3e2-4bff-dc1b-8f7be472ad46"
      },
      "source": [
        "if 0: # 0,None, False ----> false\n",
        "  print(\"number is greater\")\n",
        "print(\"this will always print irrespctive of if/else\")"
      ],
      "execution_count": 3,
      "outputs": [
        {
          "output_type": "stream",
          "text": [
            "this will always print irrespctive of if/else\n"
          ],
          "name": "stdout"
        }
      ]
    },
    {
      "cell_type": "code",
      "metadata": {
        "id": "RQy5oWUasXRo",
        "colab": {
          "base_uri": "https://localhost:8080/"
        },
        "outputId": "eb994056-5adb-428e-feb6-f1b908332d87"
      },
      "source": [
        "num = 10\n",
        "if num>0:\n",
        "  print(\"number is posistive\")\n",
        "else:\n",
        "    print(\"number is negative\")\n",
        "print(\"thank you\")"
      ],
      "execution_count": 4,
      "outputs": [
        {
          "output_type": "stream",
          "text": [
            "number is posistive\n",
            "thank you\n"
          ],
          "name": "stdout"
        }
      ]
    },
    {
      "cell_type": "code",
      "metadata": {
        "id": "wxMPQ6n0siGW",
        "colab": {
          "base_uri": "https://localhost:8080/"
        },
        "outputId": "b80cdaf9-238c-4fe9-a255-9dfd197ee9b3"
      },
      "source": [
        "num = int(input())\n",
        "if num>0:\n",
        "  print(\"number is posistive\")\n",
        "elif num==0: \n",
        "  print(\"number is 0\")\n",
        "else:\n",
        "  print(\"number is negative\")\n",
        "print(\"thank you\")"
      ],
      "execution_count": 5,
      "outputs": [
        {
          "output_type": "stream",
          "text": [
            "-9\n",
            "number is negative\n",
            "thank you\n"
          ],
          "name": "stdout"
        }
      ]
    },
    {
      "cell_type": "code",
      "metadata": {
        "id": "5_2ssCOFsteI",
        "colab": {
          "base_uri": "https://localhost:8080/"
        },
        "outputId": "745448cd-8f58-4f63-8ab4-6288702f27d9"
      },
      "source": [
        "num = int(input())\n",
        "if num>=0:\n",
        "  if num == 0:\n",
        "    print(\"zero\")\n",
        "  elif num>0:\n",
        "    print(\"positive\")\n",
        "else:\n",
        "  print(\"negative\")\n",
        "print(\"thank you\")"
      ],
      "execution_count": 6,
      "outputs": [
        {
          "output_type": "stream",
          "text": [
            "40\n",
            "positive\n",
            "thank you\n"
          ],
          "name": "stdout"
        }
      ]
    },
    {
      "cell_type": "code",
      "metadata": {
        "id": "9puP2OqitU_8",
        "colab": {
          "base_uri": "https://localhost:8080/"
        },
        "outputId": "84ecb829-2189-4f2c-a93c-e9b646491a43"
      },
      "source": [
        "print(\"hello\")\n",
        "num1 = int(input())\n",
        "num2 = int(input())\n",
        "num3 = int(input())\n",
        "if num1>num2 and num1 > num3:\n",
        "  large = num1\n",
        "elif num2>num3:\n",
        "  large = num2\n",
        "else:\n",
        "  large = num3\n",
        "print(\"thank you, The largest number is: {}\".format(large))"
      ],
      "execution_count": 7,
      "outputs": [
        {
          "output_type": "stream",
          "text": [
            "hello\n",
            "6\n",
            "2\n",
            "54\n",
            "thank you, The largest number is: 54\n"
          ],
          "name": "stdout"
        }
      ]
    },
    {
      "cell_type": "markdown",
      "metadata": {
        "id": "iGFKVgbJwOTh"
      },
      "source": [
        "### while"
      ]
    },
    {
      "cell_type": "code",
      "metadata": {
        "id": "0Zuu2Gm7uUS3",
        "colab": {
          "base_uri": "https://localhost:8080/"
        },
        "outputId": "9c5df8f9-c539-4e8b-bfab-2956b13efb20"
      },
      "source": [
        "l = [10,20,30,40,30]\n",
        "product = 1\n",
        "index = 0\n",
        "while index<len(l): \n",
        "  product = product * l[index]\n",
        "  index = index + 1\n",
        "print(\"product is {}\".format(product))"
      ],
      "execution_count": 8,
      "outputs": [
        {
          "output_type": "stream",
          "text": [
            "product is 7200000\n"
          ],
          "name": "stdout"
        }
      ]
    },
    {
      "cell_type": "markdown",
      "metadata": {
        "id": "Mixhx3QY23R8"
      },
      "source": [
        "### while loop with else"
      ]
    },
    {
      "cell_type": "code",
      "metadata": {
        "id": "WR0QvRiD20C3",
        "colab": {
          "base_uri": "https://localhost:8080/"
        },
        "outputId": "42578189-20a4-4b34-9f29-a5a5f0b942f6"
      },
      "source": [
        "number = [1,2,3,4]\n",
        "index = 0 \n",
        "while index<len(number):\n",
        "  print(number[index])\n",
        "  index = index + 1\n",
        "else:\n",
        "  print(\"ran out of options, mate\")\n",
        "print(\"thank you\")#will display always at the end"
      ],
      "execution_count": 9,
      "outputs": [
        {
          "output_type": "stream",
          "text": [
            "1\n",
            "2\n",
            "3\n",
            "4\n",
            "ran out of options, mate\n",
            "thank you\n"
          ],
          "name": "stdout"
        }
      ]
    },
    {
      "cell_type": "code",
      "metadata": {
        "id": "mGXtTFmu37o9",
        "colab": {
          "base_uri": "https://localhost:8080/"
        },
        "outputId": "ff8b8ca4-9611-4c6c-ba01-10a47d9903bd"
      },
      "source": [
        "print(\"please enter a number to check if prime or not\")\n",
        "number = int(input())\n",
        "index = 2\n",
        "d = False\n",
        "while index<number:\n",
        "  if number%index == 0:\n",
        "    d = True\n",
        "    print(\"{0} is divisible by {1}\".format(number,index))\n",
        "  index = index + 1\n",
        "if d == True:\n",
        "  print(\"number is not prime\")\n",
        "elif d==False:\n",
        "  print(\"number is prime\")\n",
        "else:\n",
        "  print(\"you entered 1\")"
      ],
      "execution_count": 10,
      "outputs": [
        {
          "output_type": "stream",
          "text": [
            "please enter a number to check if prime or not\n",
            "67\n",
            "number is prime\n"
          ],
          "name": "stdout"
        }
      ]
    },
    {
      "cell_type": "markdown",
      "metadata": {
        "id": "X3b5RK4x8M0S"
      },
      "source": [
        "### for"
      ]
    },
    {
      "cell_type": "code",
      "metadata": {
        "id": "EoMxEDit7Esb",
        "colab": {
          "base_uri": "https://localhost:8080/"
        },
        "outputId": "908ca8ad-c8aa-4f1e-a5f1-85e6ddec7490"
      },
      "source": [
        "l = [1,2,3,4,5]\n",
        "product = 1\n",
        "for e in l:\n",
        "  product = product * e\n",
        "print(\"product is {}\".format(product))"
      ],
      "execution_count": 11,
      "outputs": [
        {
          "output_type": "stream",
          "text": [
            "product is 120\n"
          ],
          "name": "stdout"
        }
      ]
    },
    {
      "cell_type": "code",
      "metadata": {
        "id": "-sA27zQy9L95",
        "colab": {
          "base_uri": "https://localhost:8080/"
        },
        "outputId": "0700526d-b5b3-4249-bf1d-f36ce62547eb"
      },
      "source": [
        "l = [10,20,30,40,50]\n",
        "product = 1\n",
        "for e in l :\n",
        "  product = product * e\n",
        "print(\"product is {}\".format(product))"
      ],
      "execution_count": 12,
      "outputs": [
        {
          "output_type": "stream",
          "text": [
            "product is 12000000\n"
          ],
          "name": "stdout"
        }
      ]
    },
    {
      "cell_type": "code",
      "metadata": {
        "id": "Vzng1YDM-UfL",
        "colab": {
          "base_uri": "https://localhost:8080/"
        },
        "outputId": "dd62f04c-aaa5-47b1-f282-1c8465afcce2"
      },
      "source": [
        "for i in range(0,10,3):\n",
        "  print(i)"
      ],
      "execution_count": 13,
      "outputs": [
        {
          "output_type": "stream",
          "text": [
            "0\n",
            "3\n",
            "6\n",
            "9\n"
          ],
          "name": "stdout"
        }
      ]
    },
    {
      "cell_type": "code",
      "metadata": {
        "id": "9e26nhDWAfpz",
        "colab": {
          "base_uri": "https://localhost:8080/"
        },
        "outputId": "410fd146-4aeb-4f9b-da5e-3c91ed683e49"
      },
      "source": [
        "import random\n",
        "l = [\"Messi\",\"Suarez\",\"Neymar\",\"Ronaldo\",\"Stegen\",\"Pique\",\"Bale\"]\n",
        "for i in l:\n",
        "  print(i)\n",
        "print(\"ANOTHER WAY!!!\")\n",
        "for i in range(len(l)):\n",
        "  print(l[i])"
      ],
      "execution_count": 14,
      "outputs": [
        {
          "output_type": "stream",
          "text": [
            "Messi\n",
            "Suarez\n",
            "Neymar\n",
            "Ronaldo\n",
            "Stegen\n",
            "Pique\n",
            "Bale\n",
            "ANOTHER WAY!!!\n",
            "Messi\n",
            "Suarez\n",
            "Neymar\n",
            "Ronaldo\n",
            "Stegen\n",
            "Pique\n",
            "Bale\n"
          ],
          "name": "stdout"
        }
      ]
    },
    {
      "cell_type": "markdown",
      "metadata": {
        "id": "aM-WIrC9BSE0"
      },
      "source": [
        "### for loop with else\n"
      ]
    },
    {
      "cell_type": "code",
      "metadata": {
        "id": "kpDU6DBTAmUQ",
        "colab": {
          "base_uri": "https://localhost:8080/"
        },
        "outputId": "f84d5712-20fd-4420-dcf6-7d35cfc629fe"
      },
      "source": [
        "print(\"enter lower limit:\")\n",
        "num1 = int(input())\n",
        "print(\"enter upper limit:\")\n",
        "num2 = int(input())\n",
        "print(\"prime numbers between {0} and {1} are:\".format(num1,num2))\n",
        "for i in range(num1,num2+1):\n",
        "  if i>1:\n",
        "    flag = False\n",
        "    for e in range (2,i):\n",
        "      if i%e == 0:\n",
        "        flag = True\n",
        "    if flag == False:\n",
        "        print(i)"
      ],
      "execution_count": 15,
      "outputs": [
        {
          "output_type": "stream",
          "text": [
            "enter lower limit:\n",
            "3\n",
            "enter upper limit:\n",
            "19\n",
            "prime numbers between 3 and 19 are:\n",
            "3\n",
            "5\n",
            "7\n",
            "11\n",
            "13\n",
            "17\n",
            "19\n"
          ],
          "name": "stdout"
        }
      ]
    },
    {
      "cell_type": "markdown",
      "metadata": {
        "id": "AHA4SvsuMUTB"
      },
      "source": [
        "### continue & break"
      ]
    },
    {
      "cell_type": "code",
      "metadata": {
        "id": "GATvBKeQMSZS",
        "colab": {
          "base_uri": "https://localhost:8080/"
        },
        "outputId": "f016a358-457b-4049-e700-6f91e1cd6e17"
      },
      "source": [
        "numbers = [1,2,3,4,5,6,7,8,9]\n",
        "for i in numbers:\n",
        "  if i == 4:\n",
        "    break\n",
        "  else:\n",
        "    print(i)\n",
        "else:\n",
        "  print(\"i am in the else-for\")\n",
        "print(\"this will always get printed\")"
      ],
      "execution_count": 16,
      "outputs": [
        {
          "output_type": "stream",
          "text": [
            "1\n",
            "2\n",
            "3\n",
            "this will always get printed\n"
          ],
          "name": "stdout"
        }
      ]
    },
    {
      "cell_type": "code",
      "metadata": {
        "id": "kr58wMxTNYUb",
        "colab": {
          "base_uri": "https://localhost:8080/"
        },
        "outputId": "e964984c-3890-4d61-d035-cba49e62d669"
      },
      "source": [
        "print(\"enter any number:\")\n",
        "num = int(input())\n",
        "for i in range(2,num):\n",
        "  flag = False\n",
        "  if num % i == 0:\n",
        "    print(\"{} is divisible by {}\".format(num,i))\n",
        "    flag = True\n",
        "    break\n",
        "  i = i + 1\n",
        "if flag == True:\n",
        "  print(\"number is not prime\")\n",
        "else:\n",
        "  print(\"number is prime\")"
      ],
      "execution_count": 17,
      "outputs": [
        {
          "output_type": "stream",
          "text": [
            "enter any number:\n",
            "34\n",
            "34 is divisible by 2\n",
            "number is not prime\n"
          ],
          "name": "stdout"
        }
      ]
    },
    {
      "cell_type": "code",
      "metadata": {
        "id": "cq1QPmjNO_DJ",
        "colab": {
          "base_uri": "https://localhost:8080/"
        },
        "outputId": "f2e2945e-f87d-4777-bfe0-a2a9cce05206"
      },
      "source": [
        "for i in range(1,20):\n",
        "  print(i)"
      ],
      "execution_count": 18,
      "outputs": [
        {
          "output_type": "stream",
          "text": [
            "1\n",
            "2\n",
            "3\n",
            "4\n",
            "5\n",
            "6\n",
            "7\n",
            "8\n",
            "9\n",
            "10\n",
            "11\n",
            "12\n",
            "13\n",
            "14\n",
            "15\n",
            "16\n",
            "17\n",
            "18\n",
            "19\n"
          ],
          "name": "stdout"
        }
      ]
    }
  ]
}