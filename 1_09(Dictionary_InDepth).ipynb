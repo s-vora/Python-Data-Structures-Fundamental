{
  "nbformat": 4,
  "nbformat_minor": 0,
  "metadata": {
    "colab": {
      "name": "1.09(Dictionary: InDepth).ipynb",
      "provenance": [],
      "collapsed_sections": []
    },
    "kernelspec": {
      "name": "python3",
      "display_name": "Python 3"
    }
  },
  "cells": [
    {
      "cell_type": "markdown",
      "metadata": {
        "id": "HLINvLA5yEDt"
      },
      "source": [
        "## Dictionary \n",
        "###(like a hashtable)\n",
        "  \n",
        "\n",
        "*   unordered collecion of items.(no indexing)\n",
        "*   While other compound data types only have values, dictionary has a key-value pair\n",
        "\n"
      ]
    },
    {
      "cell_type": "code",
      "metadata": {
        "id": "WebhJiyax0ig",
        "colab": {
          "base_uri": "https://localhost:8080/"
        },
        "outputId": "21fcd63d-03bc-4a55-ad43-ecf653599599"
      },
      "source": [
        "#empty dictionary\n",
        "my_dict = {}\n",
        "\n",
        "# dictionary with integer keys\n",
        "my_dict = {1:'abc', 2:'xyz'}\n",
        "print(my_dict)\n",
        " \n",
        "#dictionary with mixed data types\n",
        "my_dict = {\"city\":\"barcelona\",1:['abc','to','xyz']}\n",
        "print(my_dict)\n",
        "\n",
        "#empty dictionary made by dict() function\n",
        "my_dict = dict()\n",
        "\n",
        "#create a dictionary from a list of tuples\n",
        "my_dict = dict([{1,'abc'},{2,'xyz'}])\n",
        "print(my_dict)"
      ],
      "execution_count": 1,
      "outputs": [
        {
          "output_type": "stream",
          "text": [
            "{1: 'abc', 2: 'xyz'}\n",
            "{'city': 'barcelona', 1: ['abc', 'to', 'xyz']}\n",
            "{1: 'abc', 2: 'xyz'}\n"
          ],
          "name": "stdout"
        }
      ]
    },
    {
      "cell_type": "code",
      "metadata": {
        "id": "vU3IBBluZBzn",
        "colab": {
          "base_uri": "https://localhost:8080/"
        },
        "outputId": "aaa2b75a-d3fc-4c44-a904-44d2e66d2a6e"
      },
      "source": [
        "info = {\"name\":\"matthew\",\"age\":\"29\",\"Address\":\"New Jersey\"}\n",
        "print(info['name']) # accessing the value from the key"
      ],
      "execution_count": 2,
      "outputs": [
        {
          "output_type": "stream",
          "text": [
            "matthew\n"
          ],
          "name": "stdout"
        }
      ]
    },
    {
      "cell_type": "code",
      "metadata": {
        "id": "qFQcDStJC5XK",
        "colab": {
          "base_uri": "https://localhost:8080/"
        },
        "outputId": "0894483f-f8d7-46eb-df79-2e21df5de626"
      },
      "source": [
        "#another way of accessing a key/value\n",
        "print(info.get('Address')) #.get() is a predefined function in dictionary data structure"
      ],
      "execution_count": 3,
      "outputs": [
        {
          "output_type": "stream",
          "text": [
            "New Jersey\n"
          ],
          "name": "stdout"
        }
      ]
    },
    {
      "cell_type": "code",
      "metadata": {
        "id": "aLv5i_FCEu6G",
        "colab": {
          "base_uri": "https://localhost:8080/"
        },
        "outputId": "f9f37aff-556c-46d1-cdad-ee4a2ac6034f"
      },
      "source": [
        "#updating a value for a key\n",
        "info['name'] = 'george'\n",
        "print(info)"
      ],
      "execution_count": 4,
      "outputs": [
        {
          "output_type": "stream",
          "text": [
            "{'name': 'george', 'age': '29', 'Address': 'New Jersey'}\n"
          ],
          "name": "stdout"
        }
      ]
    },
    {
      "cell_type": "code",
      "metadata": {
        "id": "AgYDeI1ME3we",
        "colab": {
          "base_uri": "https://localhost:8080/"
        },
        "outputId": "2565552b-41b1-4167-b006-f0abdb412663"
      },
      "source": [
        "# adding a new key/value pair\n",
        "info['degree'] = \"computer science\"\n",
        "print(info)"
      ],
      "execution_count": 5,
      "outputs": [
        {
          "output_type": "stream",
          "text": [
            "{'name': 'george', 'age': '29', 'Address': 'New Jersey', 'degree': 'computer science'}\n"
          ],
          "name": "stdout"
        }
      ]
    },
    {
      "cell_type": "code",
      "metadata": {
        "id": "GFbkOj3-FCE9",
        "colab": {
          "base_uri": "https://localhost:8080/"
        },
        "outputId": "e7528f70-9015-4542-f23b-c9b639d6de2a"
      },
      "source": [
        "# deleting/removing an element from dictionary\n",
        "info = {\"name\":\"matthew\",\"age\":\"29\",\"Address\":\"New Jersey\"}\n",
        "#remove a particular item\n",
        "print(info.pop('age'))\n",
        "print(info)"
      ],
      "execution_count": 6,
      "outputs": [
        {
          "output_type": "stream",
          "text": [
            "29\n",
            "{'name': 'matthew', 'Address': 'New Jersey'}\n"
          ],
          "name": "stdout"
        }
      ]
    },
    {
      "cell_type": "code",
      "metadata": {
        "id": "69k71TjKGNn1",
        "colab": {
          "base_uri": "https://localhost:8080/"
        },
        "outputId": "49495964-341d-47fc-af05-f95afb8fc762"
      },
      "source": [
        "info = {\"name\":\"matthew\",\"age\":\"29\",\"Address\":\"New Jersey\"}\n",
        "#remove a random key/value pair from dictionary\n",
        "info.popitem()\n",
        "print(info)"
      ],
      "execution_count": 7,
      "outputs": [
        {
          "output_type": "stream",
          "text": [
            "{'name': 'matthew', 'age': '29'}\n"
          ],
          "name": "stdout"
        }
      ]
    },
    {
      "cell_type": "code",
      "metadata": {
        "id": "F4waMcbOGbaZ",
        "colab": {
          "base_uri": "https://localhost:8080/",
          "height": 270
        },
        "outputId": "e27e04bd-df00-4608-dfa6-c38541ab6c33"
      },
      "source": [
        "sq = {2:4,3:9,4:16,5:25}\n",
        "# deleting a particular item\n",
        "del sq[3]\n",
        "print(sq)\n",
        "# clearing all items  from the dictionary\n",
        "sq.clear()\n",
        "print(sq)\n",
        "# deleting an entire dictionary\n",
        "del sq\n",
        "print(sq) # will get an error as sq is deleted and does not exist\n",
        "# difference between clear() and del is that del will delete the entire dictionary, and clear() will keep the dictionary and delete all its contents"
      ],
      "execution_count": 8,
      "outputs": [
        {
          "output_type": "stream",
          "text": [
            "{2: 4, 4: 16, 5: 25}\n",
            "{}\n"
          ],
          "name": "stdout"
        },
        {
          "output_type": "error",
          "ename": "NameError",
          "evalue": "ignored",
          "traceback": [
            "\u001b[0;31m---------------------------------------------------------------------------\u001b[0m",
            "\u001b[0;31mNameError\u001b[0m                                 Traceback (most recent call last)",
            "\u001b[0;32m<ipython-input-8-1635dc40f70e>\u001b[0m in \u001b[0;36m<module>\u001b[0;34m()\u001b[0m\n\u001b[1;32m      8\u001b[0m \u001b[0;31m# deleting an entire dictionary\u001b[0m\u001b[0;34m\u001b[0m\u001b[0;34m\u001b[0m\u001b[0;34m\u001b[0m\u001b[0m\n\u001b[1;32m      9\u001b[0m \u001b[0;32mdel\u001b[0m \u001b[0msq\u001b[0m\u001b[0;34m\u001b[0m\u001b[0;34m\u001b[0m\u001b[0m\n\u001b[0;32m---> 10\u001b[0;31m \u001b[0mprint\u001b[0m\u001b[0;34m(\u001b[0m\u001b[0msq\u001b[0m\u001b[0;34m)\u001b[0m \u001b[0;31m# will get an error as sq is deleted and does not exist\u001b[0m\u001b[0;34m\u001b[0m\u001b[0;34m\u001b[0m\u001b[0m\n\u001b[0m\u001b[1;32m     11\u001b[0m \u001b[0;31m# difference between clear() and del is that del will delete the entire dictionary, and clear() will keep the dictionary and delete all its contents\u001b[0m\u001b[0;34m\u001b[0m\u001b[0;34m\u001b[0m\u001b[0;34m\u001b[0m\u001b[0m\n",
            "\u001b[0;31mNameError\u001b[0m: name 'sq' is not defined"
          ]
        }
      ]
    },
    {
      "cell_type": "markdown",
      "metadata": {
        "id": "msTUd_YgIB5e"
      },
      "source": [
        "### Dictionary Methods"
      ]
    },
    {
      "cell_type": "code",
      "metadata": {
        "id": "mdFfGRo9HUIP",
        "colab": {
          "base_uri": "https://localhost:8080/"
        },
        "outputId": "3275f6f2-d973-41ba-c7d1-9e51eef15c91"
      },
      "source": [
        "sq = {2:4,3:9,4:16,5:25}\n",
        "my_dict = sq.copy()\n",
        "print(my_dict)"
      ],
      "execution_count": 9,
      "outputs": [
        {
          "output_type": "stream",
          "text": [
            "{2: 4, 3: 9, 4: 16, 5: 25}\n"
          ],
          "name": "stdout"
        }
      ]
    },
    {
      "cell_type": "code",
      "metadata": {
        "id": "wMMF1Ni8JJwA",
        "colab": {
          "base_uri": "https://localhost:8080/"
        },
        "outputId": "8f0cdd29-ca58-41fa-ca2b-95954b5b424d"
      },
      "source": [
        "#when more than 1 keys point to the same value, and you want to save time\n",
        "# fromkeys([k1,k2,k3....,kn],v)\n",
        "my_dict = {}.fromkeys(['Math','Physics','Csc'],0) #{} indicates empty dictionary\n",
        "print(my_dict)"
      ],
      "execution_count": 10,
      "outputs": [
        {
          "output_type": "stream",
          "text": [
            "{'Math': 0, 'Physics': 0, 'Csc': 0}\n"
          ],
          "name": "stdout"
        }
      ]
    },
    {
      "cell_type": "code",
      "metadata": {
        "id": "UcgDR20LKZtJ",
        "colab": {
          "base_uri": "https://localhost:8080/"
        },
        "outputId": "90011db0-f7e6-4f75-c20e-eccf74420fd5"
      },
      "source": [
        "subjects = {2:4,3:9,4:16,5:25}\n",
        "print(subjects.items()) # returns a new view of dictionary. (looks like a tuple)"
      ],
      "execution_count": 11,
      "outputs": [
        {
          "output_type": "stream",
          "text": [
            "dict_items([(2, 4), (3, 9), (4, 16), (5, 25)])\n"
          ],
          "name": "stdout"
        }
      ]
    },
    {
      "cell_type": "code",
      "metadata": {
        "id": "zSXuSfuDK-rw",
        "colab": {
          "base_uri": "https://localhost:8080/"
        },
        "outputId": "07ce48e6-840b-40d7-d24b-6758486c0b44"
      },
      "source": [
        "#print only keys\n",
        "print(subjects.keys())\n",
        "\n",
        "#print only values\n",
        "print(subjects.values())"
      ],
      "execution_count": 12,
      "outputs": [
        {
          "output_type": "stream",
          "text": [
            "dict_keys([2, 3, 4, 5])\n",
            "dict_values([4, 9, 16, 25])\n"
          ],
          "name": "stdout"
        }
      ]
    },
    {
      "cell_type": "markdown",
      "metadata": {
        "id": "lFBVlWpiPDum"
      },
      "source": [
        "### Dictionary Comprehension\n"
      ]
    },
    {
      "cell_type": "code",
      "metadata": {
        "id": "PvKMX3LzPBwb",
        "colab": {
          "base_uri": "https://localhost:8080/"
        },
        "outputId": "bdf835c6-2582-4fbf-cfb4-12fe34c4686c"
      },
      "source": [
        "# very similar to lists\n",
        "d = {'a':1,'b':2,'c':3}\n",
        "for pair in d.items():\n",
        "  print(pair) #will print in form of tuples\n",
        "print(\"thank you\")"
      ],
      "execution_count": 13,
      "outputs": [
        {
          "output_type": "stream",
          "text": [
            "('a', 1)\n",
            "('b', 2)\n",
            "('c', 3)\n",
            "thank you\n"
          ],
          "name": "stdout"
        }
      ]
    },
    {
      "cell_type": "code",
      "metadata": {
        "id": "VZfutR36P1Hs",
        "colab": {
          "base_uri": "https://localhost:8080/"
        },
        "outputId": "836aa711-7cbd-4b8c-abe3-024794465a41"
      },
      "source": [
        "#create a dictionary with pairs having values greater than 2 ONLY\n",
        "d = {'a':1,'b':2,'c':3,'d':4,'e':5}\n",
        "new_d = {k:v for k,v in d.items() if v > 2}\n",
        "print(new_d)"
      ],
      "execution_count": 14,
      "outputs": [
        {
          "output_type": "stream",
          "text": [
            "{'c': 3, 'd': 4, 'e': 5}\n"
          ],
          "name": "stdout"
        }
      ]
    },
    {
      "cell_type": "code",
      "metadata": {
        "id": "L01iscFTRUT0",
        "colab": {
          "base_uri": "https://localhost:8080/"
        },
        "outputId": "ff970c66-0739-4814-9aa6-13b6376ba0b3"
      },
      "source": [
        "# we can also perform complex operations under dictionary comprehension\n",
        "d = {'a':1,'b':2,'c':3,'d':4,'e':5}\n",
        "# add 'c' to every key, and multiply \n",
        "new_d = {k + 'c':v*2 for k,v in d.items() if v > 2}\n",
        "print(new_d)"
      ],
      "execution_count": 15,
      "outputs": [
        {
          "output_type": "stream",
          "text": [
            "{'cc': 6, 'dc': 8, 'ec': 10}\n"
          ],
          "name": "stdout"
        }
      ]
    },
    {
      "cell_type": "code",
      "metadata": {
        "id": "WIMtHkz6Tke1",
        "colab": {
          "base_uri": "https://localhost:8080/"
        },
        "outputId": "3253561a-0849-4081-cb58-4d34d961fb8c"
      },
      "source": [
        "#all \n",
        "d = {}\n",
        "print(dir(d)) #all the functions and attributes if a dictionary"
      ],
      "execution_count": 16,
      "outputs": [
        {
          "output_type": "stream",
          "text": [
            "['__class__', '__contains__', '__delattr__', '__delitem__', '__dir__', '__doc__', '__eq__', '__format__', '__ge__', '__getattribute__', '__getitem__', '__gt__', '__hash__', '__init__', '__init_subclass__', '__iter__', '__le__', '__len__', '__lt__', '__ne__', '__new__', '__reduce__', '__reduce_ex__', '__repr__', '__setattr__', '__setitem__', '__sizeof__', '__str__', '__subclasshook__', 'clear', 'copy', 'fromkeys', 'get', 'items', 'keys', 'pop', 'popitem', 'setdefault', 'update', 'values']\n"
          ],
          "name": "stdout"
        }
      ]
    }
  ]
}