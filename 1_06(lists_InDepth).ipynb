{
  "nbformat": 4,
  "nbformat_minor": 0,
  "metadata": {
    "colab": {
      "name": "1.06(lists-InDepth).ipynb",
      "provenance": [],
      "collapsed_sections": []
    },
    "kernelspec": {
      "name": "python3",
      "display_name": "Python 3"
    }
  },
  "cells": [
    {
      "cell_type": "markdown",
      "metadata": {
        "id": "44VcrYMxys8t"
      },
      "source": [
        "#List is one of the sequence Data Structure.\n",
        "\n",
        "*   collection of items\n",
        "*   enclosed in []\n",
        "*   each item has an assigned index    value\n",
        "*   seperated by , \n",
        "*   are mutable (editable)\n",
        "*   can be printed out element-wise\n",
        "\n",
        "\n",
        "\n",
        "\n",
        "\n"
      ]
    },
    {
      "cell_type": "code",
      "metadata": {
        "id": "jdmfWF5byM0u",
        "colab": {
          "base_uri": "https://localhost:8080/"
        },
        "outputId": "e1d268ec-7c6b-4a82-dcac-70f63c758262"
      },
      "source": [
        "emptyList = []\n",
        "lst = ['one','two','three','four']  # list of strings\n",
        "print(lst)\n",
        "\n",
        "lst2 = [1,2,3,4] # list of integers\n",
        "print(lst2)\n",
        "\n",
        "lst3 = ['three',2,1.3]\n",
        "print(lst3)\n",
        "\n",
        "lst4 = [[1,2],['three','four']] #list of lists\n",
        "print(lst4[0])"
      ],
      "execution_count": 1,
      "outputs": [
        {
          "output_type": "stream",
          "text": [
            "['one', 'two', 'three', 'four']\n",
            "[1, 2, 3, 4]\n",
            "['three', 2, 1.3]\n",
            "[1, 2]\n"
          ],
          "name": "stdout"
        }
      ]
    },
    {
      "cell_type": "code",
      "metadata": {
        "id": "UY1cOhQ30VC9",
        "colab": {
          "base_uri": "https://localhost:8080/"
        },
        "outputId": "82f6a1d9-fb44-467d-e0b4-5072aea8093e"
      },
      "source": [
        "lst = [1,2,3,4,5]\n",
        "print(len(lst))"
      ],
      "execution_count": 2,
      "outputs": [
        {
          "output_type": "stream",
          "text": [
            "5\n"
          ],
          "name": "stdout"
        }
      ]
    },
    {
      "cell_type": "markdown",
      "metadata": {
        "id": "F-yW_wJlQ9gJ"
      },
      "source": [
        "insert()"
      ]
    },
    {
      "cell_type": "code",
      "metadata": {
        "id": "rj4Q8ZTbxL6R",
        "colab": {
          "base_uri": "https://localhost:8080/"
        },
        "outputId": "5d3b2e6d-03b2-4d61-8e5b-205c358ba044"
      },
      "source": [
        "lst = [1,8,4,10,6]\n",
        "lst.insert(4,'hi') #first parameter is the index number where the insertion should take place\n",
        "print(lst) \n",
        "print(len(lst))"
      ],
      "execution_count": 3,
      "outputs": [
        {
          "output_type": "stream",
          "text": [
            "[1, 8, 4, 10, 'hi', 6]\n",
            "6\n"
          ],
          "name": "stdout"
        }
      ]
    },
    {
      "cell_type": "markdown",
      "metadata": {
        "id": "k9qcy-0ERAUH"
      },
      "source": [
        "remove()"
      ]
    },
    {
      "cell_type": "code",
      "metadata": {
        "id": "1OsQnVDr03XM",
        "colab": {
          "base_uri": "https://localhost:8080/"
        },
        "outputId": "05526e72-1e66-42d5-cd8f-80f9c250a30b"
      },
      "source": [
        "lst = [\"soccer\",\"messi\",\"neymar\",\"cristiano\",\"neymar\"]\n",
        "lst.remove(\"neymar\")  # will only remove first occurences\n",
        "print(lst)\n",
        "print(len(lst))"
      ],
      "execution_count": 4,
      "outputs": [
        {
          "output_type": "stream",
          "text": [
            "['soccer', 'messi', 'cristiano', 'neymar']\n",
            "4\n"
          ],
          "name": "stdout"
        }
      ]
    },
    {
      "cell_type": "markdown",
      "metadata": {
        "id": "qYJ3KPNFRB06"
      },
      "source": [
        "append()"
      ]
    },
    {
      "cell_type": "code",
      "metadata": {
        "id": "ij26U61a1I_a",
        "colab": {
          "base_uri": "https://localhost:8080/"
        },
        "outputId": "ed1d0631-a307-4fef-93a5-42f59d9e4a5f"
      },
      "source": [
        "lst = ['one','two','three','four']\n",
        "lst2 = ['six']\n",
        "lst.append(lst2) # added to the end as a LIST\n",
        "print(lst)"
      ],
      "execution_count": 12,
      "outputs": [
        {
          "output_type": "stream",
          "text": [
            "['one', 'two', 'three', 'four', ['six']]\n"
          ],
          "name": "stdout"
        }
      ]
    },
    {
      "cell_type": "markdown",
      "metadata": {
        "id": "1N11u1ceRDAx"
      },
      "source": [
        "extend()"
      ]
    },
    {
      "cell_type": "code",
      "metadata": {
        "id": "oHSzMcQh11kw",
        "colab": {
          "base_uri": "https://localhost:8080/"
        },
        "outputId": "e07f94c7-4a5a-4b84-bace-e761949b72f0"
      },
      "source": [
        "lst = ['one','two','three','four']\n",
        "lst2 = [5,6]\n",
        "lst.extend(lst2)  # added to the end as ELEMENTS\n",
        "print(lst)"
      ],
      "execution_count": 6,
      "outputs": [
        {
          "output_type": "stream",
          "text": [
            "['one', 'two', 'three', 'four', 5, 6]\n"
          ],
          "name": "stdout"
        }
      ]
    },
    {
      "cell_type": "markdown",
      "metadata": {
        "id": "75whNWqsREoM"
      },
      "source": [
        "del"
      ]
    },
    {
      "cell_type": "code",
      "metadata": {
        "id": "IqTLIdir2I88",
        "colab": {
          "base_uri": "https://localhost:8080/"
        },
        "outputId": "db47c629-865c-4f78-caa0-48219b4d8d19"
      },
      "source": [
        "lst = ['one','two','three','four']\n",
        "print(lst)\n",
        "del lst[1]\n",
        "print(lst)\n",
        "a = lst.pop(2)\n",
        "print(a)\n",
        "print(lst)\n",
        "lst.remove(\"one\")\n",
        "print(lst)"
      ],
      "execution_count": 7,
      "outputs": [
        {
          "output_type": "stream",
          "text": [
            "['one', 'two', 'three', 'four']\n",
            "['one', 'three', 'four']\n",
            "four\n",
            "['one', 'three']\n",
            "['three']\n"
          ],
          "name": "stdout"
        }
      ]
    },
    {
      "cell_type": "markdown",
      "metadata": {
        "id": "yuU7wWog314T"
      },
      "source": [
        "### keywords in python"
      ]
    },
    {
      "cell_type": "code",
      "metadata": {
        "id": "869NAyvS3Yv6",
        "colab": {
          "base_uri": "https://localhost:8080/"
        },
        "outputId": "75156bb5-810d-4720-f52c-5ee134b2c23a"
      },
      "source": [
        "lst = ['one','two','three','four','five']\n",
        "if 'two' in lst:\n",
        "  print(\"two is present\")\n",
        "  \n",
        "if 'six' not in lst:\n",
        "  print(\"six is not present\")\n",
        "print(\"will print this nevertheless\")"
      ],
      "execution_count": 8,
      "outputs": [
        {
          "output_type": "stream",
          "text": [
            "two is present\n",
            "six is not present\n",
            "will print this nevertheless\n"
          ],
          "name": "stdout"
        }
      ]
    },
    {
      "cell_type": "markdown",
      "metadata": {
        "id": "bFtG08ORRGfG"
      },
      "source": [
        "reverse()"
      ]
    },
    {
      "cell_type": "code",
      "metadata": {
        "id": "8QGlnBCl4iaB",
        "colab": {
          "base_uri": "https://localhost:8080/"
        },
        "outputId": "9aae98dc-e501-4e1d-8284-6043c7f270e7"
      },
      "source": [
        "l = [1,2,3,4,5]\n",
        "print(l)\n",
        "l.reverse()\n",
        "print(l)"
      ],
      "execution_count": 9,
      "outputs": [
        {
          "output_type": "stream",
          "text": [
            "[1, 2, 3, 4, 5]\n",
            "[5, 4, 3, 2, 1]\n"
          ],
          "name": "stdout"
        }
      ]
    },
    {
      "cell_type": "code",
      "metadata": {
        "id": "TU7_f47B4wNI",
        "colab": {
          "base_uri": "https://localhost:8080/"
        },
        "outputId": "195ef409-d514-4fb3-fa06-235dfdc78ed0"
      },
      "source": [
        "lst1 = [1,2,3,4,5]\n",
        "lst2 = [6,7,8,9]\n",
        "lst3 = [10,11,12,13]\n",
        "lst4 = [14,15,16,17]\n",
        "lst1.append(lst2)\n",
        "lst3.extend(lst4)\n",
        "print(lst1)\n",
        "print(lst3)\n",
        "lst1.remove(3)\n",
        "print(lst1)"
      ],
      "execution_count": 10,
      "outputs": [
        {
          "output_type": "stream",
          "text": [
            "[1, 2, 3, 4, 5, [6, 7, 8, 9]]\n",
            "[10, 11, 12, 13, 14, 15, 16, 17]\n",
            "[1, 2, 4, 5, [6, 7, 8, 9]]\n"
          ],
          "name": "stdout"
        }
      ]
    },
    {
      "cell_type": "code",
      "metadata": {
        "id": "3li1PozVG1Oi",
        "colab": {
          "base_uri": "https://localhost:8080/",
          "height": 270
        },
        "outputId": "80c5c16a-c5d7-4e00-ef43-0640ec722070"
      },
      "source": [
        "lst  = ['a','d','g','b']\n",
        "lstsrtd = sorted(lst)\n",
        "print(lstsrtd)\n",
        "lst2 = [1,2,4,5,0,-4]\n",
        "print(sorted(lst2))\n",
        "print(lst2)\n",
        "lst3 = lst + lst2\n",
        "print(lst3) \n",
        "print(sorted(lst3)) # cannot sort  alphabets and numbers in the same list"
      ],
      "execution_count": null,
      "outputs": [
        {
          "output_type": "stream",
          "text": [
            "['a', 'b', 'd', 'g']\n",
            "[-4, 0, 1, 2, 4, 5]\n",
            "[1, 2, 4, 5, 0, -4]\n",
            "['a', 'd', 'g', 'b', 1, 2, 4, 5, 0, -4]\n"
          ],
          "name": "stdout"
        },
        {
          "output_type": "error",
          "ename": "TypeError",
          "evalue": "ignored",
          "traceback": [
            "\u001b[0;31m---------------------------------------------------------------------------\u001b[0m",
            "\u001b[0;31mTypeError\u001b[0m                                 Traceback (most recent call last)",
            "\u001b[0;32m<ipython-input-2-fcdf4d052e03>\u001b[0m in \u001b[0;36m<module>\u001b[0;34m()\u001b[0m\n\u001b[1;32m      7\u001b[0m \u001b[0mlst3\u001b[0m \u001b[0;34m=\u001b[0m \u001b[0mlst\u001b[0m \u001b[0;34m+\u001b[0m \u001b[0mlst2\u001b[0m\u001b[0;34m\u001b[0m\u001b[0;34m\u001b[0m\u001b[0m\n\u001b[1;32m      8\u001b[0m \u001b[0mprint\u001b[0m\u001b[0;34m(\u001b[0m\u001b[0mlst3\u001b[0m\u001b[0;34m)\u001b[0m\u001b[0;34m\u001b[0m\u001b[0;34m\u001b[0m\u001b[0m\n\u001b[0;32m----> 9\u001b[0;31m \u001b[0mprint\u001b[0m\u001b[0;34m(\u001b[0m\u001b[0msorted\u001b[0m\u001b[0;34m(\u001b[0m\u001b[0mlst3\u001b[0m\u001b[0;34m)\u001b[0m\u001b[0;34m)\u001b[0m\u001b[0;34m\u001b[0m\u001b[0;34m\u001b[0m\u001b[0m\n\u001b[0m",
            "\u001b[0;31mTypeError\u001b[0m: '<' not supported between instances of 'int' and 'str'"
          ]
        }
      ]
    },
    {
      "cell_type": "markdown",
      "metadata": {
        "id": "rJGFmlYDvR60"
      },
      "source": [
        "List having multiple references"
      ]
    },
    {
      "cell_type": "code",
      "metadata": {
        "id": "h9mVC3XWo9Zu",
        "colab": {
          "base_uri": "https://localhost:8080/",
          "height": 52
        },
        "outputId": "97abbb2f-cc3c-4a75-ede9-b92ddd0252bd"
      },
      "source": [
        "lst = [1,2,3,4,7]\n",
        "abc = lst.append(6)\n",
        "print(\"original lst: \",lst)\n",
        "print(\"modified list: \",abc)"
      ],
      "execution_count": null,
      "outputs": [
        {
          "output_type": "stream",
          "text": [
            "original lst:  [1, 2, 3, 4, 7, 6]\n",
            "modified list:  None\n"
          ],
          "name": "stdout"
        }
      ]
    },
    {
      "cell_type": "markdown",
      "metadata": {
        "id": "i_jT66vRMwnb"
      },
      "source": [
        " String Split to create a list"
      ]
    },
    {
      "cell_type": "code",
      "metadata": {
        "id": "vE41g8JfMnDx",
        "colab": {
          "base_uri": "https://localhost:8080/",
          "height": 69
        },
        "outputId": "c59af4b5-4cc4-4e62-ff5a-f5472a4555a2"
      },
      "source": [
        "s = \"one,two,three,four,five\" # normal string\n",
        "slst = s.split(',')\n",
        "print(slst)\n",
        "t  = \" i am learning python\"\n",
        "ts  = t.split() # default is white space or tab\n",
        "print(ts)\n",
        "s = \"aaabacadaeafag\"\n",
        "slst = s.split('a')\n",
        "print(slst)"
      ],
      "execution_count": null,
      "outputs": [
        {
          "output_type": "stream",
          "text": [
            "['one', 'two', 'three', 'four', 'five']\n",
            "['i', 'am', 'learning', 'python']\n",
            "['', '', '', 'b', 'c', 'd', 'e', 'f', 'g']\n"
          ],
          "name": "stdout"
        }
      ]
    },
    {
      "cell_type": "markdown",
      "metadata": {
        "id": "AKKT6BkrO52R"
      },
      "source": [
        "List Indexing\n",
        "\n",
        "\n",
        "*   Each item in the list has an assigned index value starting from 0\n",
        "*   Accessing these elements is called indexing\n",
        "\n"
      ]
    },
    {
      "cell_type": "code",
      "metadata": {
        "id": "u47hyE07O7lS",
        "colab": {
          "base_uri": "https://localhost:8080/",
          "height": 69
        },
        "outputId": "957ff563-94af-40f8-8335-5087bb803353"
      },
      "source": [
        "lst = [1,2,3,4]\n",
        "#print second element\n",
        "print(lst[1])\n",
        "#print last element\n",
        "print(lst[-1]) # or print(lst[len(lst)-1])\n",
        "#print second last element\n",
        "print(lst[-2])"
      ],
      "execution_count": null,
      "outputs": [
        {
          "output_type": "stream",
          "text": [
            "2\n",
            "4\n",
            "3\n"
          ],
          "name": "stdout"
        }
      ]
    },
    {
      "cell_type": "markdown",
      "metadata": {
        "id": "bkKcF9_IP1UL"
      },
      "source": [
        "List slicing\n",
        "\n",
        "\n",
        "*   Accessing parts of segements is called slicing\n",
        "*   [start:end:step]\n",
        "\n"
      ]
    },
    {
      "cell_type": "code",
      "metadata": {
        "id": "xxYB2eJ_P23T",
        "colab": {
          "base_uri": "https://localhost:8080/",
          "height": 87
        },
        "outputId": "182cdd73-5b89-4955-9c00-dff2b2a5d60c"
      },
      "source": [
        "numbers = [10,20,30,40,50,60,70,80,90]\n",
        "print(numbers[:]) #prints all the numbers\n",
        "print(numbers[0:4]) # from index 0 to index 4 (4 not included) \n",
        "print(numbers[4::2]) # alternate index from 4 to end to be printed\n",
        "print(numbers[0:7:3]) # print elements in indices from 0 to 7, skipping 3"
      ],
      "execution_count": null,
      "outputs": [
        {
          "output_type": "stream",
          "text": [
            "[10, 20, 30, 40, 50, 60, 70, 80, 90]\n",
            "[10, 20, 30, 40]\n",
            "[50, 70, 90]\n",
            "[10, 40, 70]\n"
          ],
          "name": "stdout"
        }
      ]
    },
    {
      "cell_type": "markdown",
      "metadata": {
        "id": "Jjmf4J4VQ12X"
      },
      "source": [
        "List 'extend' using +"
      ]
    },
    {
      "cell_type": "code",
      "metadata": {
        "id": "8OlgGScuRPX5",
        "colab": {
          "base_uri": "https://localhost:8080/",
          "height": 35
        },
        "outputId": "e101dc75-e15e-4fa8-ad6c-9caa7f30b40e"
      },
      "source": [
        "lst1 = [1,2,3,4]\n",
        "lst2 = [\"five\",\"six\"]\n",
        "lst3 = lst1+lst2\n",
        "print(lst3)"
      ],
      "execution_count": null,
      "outputs": [
        {
          "output_type": "stream",
          "text": [
            "[1, 2, 3, 4, 'five', 'six']\n"
          ],
          "name": "stdout"
        }
      ]
    },
    {
      "cell_type": "markdown",
      "metadata": {
        "id": "1PDkzrF_R4lH"
      },
      "source": [
        "counting frequency of elements in the list  \n",
        "count()"
      ]
    },
    {
      "cell_type": "code",
      "metadata": {
        "id": "uzp9qSNxSFfM",
        "colab": {
          "base_uri": "https://localhost:8080/",
          "height": 52
        },
        "outputId": "794265b2-aa08-4f3a-f989-b8e798ce079b"
      },
      "source": [
        "numbers = [1,1,3,6,71,6,1,5,1]\n",
        "a = numbers.count(1)\n",
        "print(a)\n",
        "lst = [\"barcelona\",\"roma\",\"madrid\",\"milan\",\"roma\"]\n",
        "print(lst.count(\"roma\"))"
      ],
      "execution_count": null,
      "outputs": [
        {
          "output_type": "stream",
          "text": [
            "4\n",
            "2\n"
          ],
          "name": "stdout"
        }
      ]
    },
    {
      "cell_type": "code",
      "metadata": {
        "id": "6uOCRCsqSfNi",
        "colab": {
          "base_uri": "https://localhost:8080/",
          "height": 191
        },
        "outputId": "b2871397-187c-4717-8197-c5f6a05457c1"
      },
      "source": [
        "#looping thro a list\n",
        "lst = ['one','two','three','four','five','six']\n",
        "for el in lst:\n",
        "  print(el)\n",
        "#another way\n",
        "print(\"-----\")\n",
        "for i in range(0,len(lst),2): #start from 0, go till length, and skip by 2 elements\n",
        "  print(lst[i])"
      ],
      "execution_count": null,
      "outputs": [
        {
          "output_type": "stream",
          "text": [
            "one\n",
            "two\n",
            "three\n",
            "four\n",
            "five\n",
            "six\n",
            "-----\n",
            "one\n",
            "three\n",
            "five\n"
          ],
          "name": "stdout"
        }
      ]
    },
    {
      "cell_type": "markdown",
      "metadata": {
        "id": "US1SQLcxUPIJ"
      },
      "source": [
        "list comprehension"
      ]
    },
    {
      "cell_type": "code",
      "metadata": {
        "id": "BeWokC2uTokW",
        "colab": {
          "base_uri": "https://localhost:8080/",
          "height": 35
        },
        "outputId": "6083783c-4d4b-4b67-c628-c134d0aaf6af"
      },
      "source": [
        "#without using list comprehension\n",
        "squares = []\n",
        "for i in range(10):\n",
        "  squares.append(i**2)\n",
        "print(squares)"
      ],
      "execution_count": null,
      "outputs": [
        {
          "output_type": "stream",
          "text": [
            "[1, 4, 16, 9, 25, 64, 36, 9801]\n"
          ],
          "name": "stdout"
        }
      ]
    },
    {
      "cell_type": "code",
      "metadata": {
        "id": "beIlZzqBU3bi",
        "colab": {
          "base_uri": "https://localhost:8080/",
          "height": 35
        },
        "outputId": "1e391d30-e7c2-46f9-dc48-63df317aaeb9"
      },
      "source": [
        "#using list comprehension\n",
        "squares = [i**2 for i in range(10)]\n",
        "print(squares)"
      ],
      "execution_count": null,
      "outputs": [
        {
          "output_type": "stream",
          "text": [
            "[0, 1, 4, 9, 16, 25, 36, 49, 64, 81]\n"
          ],
          "name": "stdout"
        }
      ]
    },
    {
      "cell_type": "code",
      "metadata": {
        "id": "JKa5rO_aXD9Q",
        "colab": {
          "base_uri": "https://localhost:8080/",
          "height": 52
        },
        "outputId": "32eb0613-157f-42ce-b719-8439f532e9f5"
      },
      "source": [
        "lst = [-10,-20,10,20,50]\n",
        "new_lst = [i*2 for i in lst] #double each value\n",
        "print(new_lst) \n",
        "new_lst = [i*2 for i in lst if i>0] #double only positive values\n",
        "print(new_lst)"
      ],
      "execution_count": null,
      "outputs": [
        {
          "output_type": "stream",
          "text": [
            "[-20, -40, 20, 40, 100]\n",
            "[20, 40, 100]\n"
          ],
          "name": "stdout"
        }
      ]
    },
    {
      "cell_type": "code",
      "metadata": {
        "id": "oQcz6-tvVHnF",
        "colab": {
          "base_uri": "https://localhost:8080/",
          "height": 35
        },
        "outputId": "c14d3a52-af17-44c0-9bf4-c2b7a95e7275"
      },
      "source": [
        "#another example- create a list of tuples like (number, square of the number)\n",
        "new_lst = [(i,i**2) for i in range(10)]\n",
        "print(new_lst)"
      ],
      "execution_count": null,
      "outputs": [
        {
          "output_type": "stream",
          "text": [
            "[(0, 0), (1, 1), (2, 4), (3, 9), (4, 16), (5, 25), (6, 36), (7, 49), (8, 64), (9, 81)]\n"
          ],
          "name": "stdout"
        }
      ]
    },
    {
      "cell_type": "markdown",
      "metadata": {
        "id": "n42uMaB2Xs_u"
      },
      "source": [
        "ADVANCED nested list comprehension\r\n",
        "#### A look at matrices"
      ]
    },
    {
      "cell_type": "code",
      "metadata": {
        "id": "fKIVr3bqXwO-",
        "colab": {
          "base_uri": "https://localhost:8080/",
          "height": 35
        },
        "outputId": "03826381-e262-43e8-8a23-d556c38de933"
      },
      "source": [
        "# suppose we have a matrix\n",
        "matrix = [\n",
        "          [1,2,3,4],\n",
        "          [5,6,7,8],\n",
        "          [9,10,11,12]\n",
        "]\n",
        "transposed = [] #transpose of a matrix is swapping rows and coloumns\n",
        "for i in range(4):\n",
        "  lst = []\n",
        "  for row in matrix:\n",
        "    lst.append(row[i])\n",
        "  transposed.append(lst)\n",
        "print(transposed)"
      ],
      "execution_count": null,
      "outputs": [
        {
          "output_type": "stream",
          "text": [
            "[[1, 5, 9], [2, 6, 10], [3, 7, 11], [4, 8, 12]]\n"
          ],
          "name": "stdout"
        }
      ]
    },
    {
      "cell_type": "code",
      "metadata": {
        "id": "mwb9CcrnQFpZ",
        "colab": {
          "base_uri": "https://localhost:8080/",
          "height": 451
        },
        "outputId": "80c0d06c-d948-4113-fb4e-13591192104e"
      },
      "source": [
        "matrix = [\n",
        "\n",
        "[1, 2, 3, 4],\n",
        "\n",
        "[2, 3, 4, 5],\n",
        "\n",
        "[3, 4, 5, 6]]\n",
        "\n",
        "transposed = []\n",
        "\n",
        "for i in range(4):\n",
        "\n",
        "\tprint(\"we are going to take the \",i,\"th element of each row\")\n",
        "\n",
        "\tlst = []\n",
        "\n",
        "\tfor row in matrix:\n",
        "\n",
        "\t\tprint(\"the row we are considering :\", row, \"and we are going to add\", row[i],\"to a temporary list\")\n",
        "\n",
        "\t\tlst.append(row[i])\n",
        "\n",
        "\tprint(\"the \",i,\"th column elements = \", i ,\"th elements in every row are =\", lst)\n",
        "\n",
        "\ttransposed.append(lst)\n",
        "\n",
        "\tprint(\"=\"*50)\n",
        "\n",
        "print(transposed)"
      ],
      "execution_count": null,
      "outputs": [
        {
          "output_type": "stream",
          "text": [
            "we are going to take the  0 th element of each row\n",
            "the row we are considering : [1, 2, 3, 4] and we are going to add 1 to a temporary list\n",
            "the row we are considering : [2, 3, 4, 5] and we are going to add 2 to a temporary list\n",
            "the row we are considering : [3, 4, 5, 6] and we are going to add 3 to a temporary list\n",
            "the  0 th column elements =  0 th elements in every row are = [1, 2, 3]\n",
            "==================================================\n",
            "we are going to take the  1 th element of each row\n",
            "the row we are considering : [1, 2, 3, 4] and we are going to add 2 to a temporary list\n",
            "the row we are considering : [2, 3, 4, 5] and we are going to add 3 to a temporary list\n",
            "the row we are considering : [3, 4, 5, 6] and we are going to add 4 to a temporary list\n",
            "the  1 th column elements =  1 th elements in every row are = [2, 3, 4]\n",
            "==================================================\n",
            "we are going to take the  2 th element of each row\n",
            "the row we are considering : [1, 2, 3, 4] and we are going to add 3 to a temporary list\n",
            "the row we are considering : [2, 3, 4, 5] and we are going to add 4 to a temporary list\n",
            "the row we are considering : [3, 4, 5, 6] and we are going to add 5 to a temporary list\n",
            "the  2 th column elements =  2 th elements in every row are = [3, 4, 5]\n",
            "==================================================\n",
            "we are going to take the  3 th element of each row\n",
            "the row we are considering : [1, 2, 3, 4] and we are going to add 4 to a temporary list\n",
            "the row we are considering : [2, 3, 4, 5] and we are going to add 5 to a temporary list\n",
            "the row we are considering : [3, 4, 5, 6] and we are going to add 6 to a temporary list\n",
            "the  3 th column elements =  3 th elements in every row are = [4, 5, 6]\n",
            "==================================================\n",
            "[[1, 2, 3], [2, 3, 4], [3, 4, 5], [4, 5, 6]]\n"
          ],
          "name": "stdout"
        }
      ]
    },
    {
      "cell_type": "code",
      "metadata": {
        "id": "4yDH1BIauK4s",
        "colab": {
          "base_uri": "https://localhost:8080/",
          "height": 52
        },
        "outputId": "d63f028e-7c78-45d5-eefd-a536d87f09df"
      },
      "source": [
        "cntreven = 0\n",
        "cntrodd = 0\n",
        "for i in range(15):\n",
        "  if(i%2 == 0):\n",
        "    cntreven = cntreven + 1\n",
        "  elif(i%2 != 0):\n",
        "    cntrodd = cntrodd + 1\n",
        "print(\"even, \",cntreven)\n",
        "print(\"odd, \",cntrodd)"
      ],
      "execution_count": null,
      "outputs": [
        {
          "output_type": "stream",
          "text": [
            "even,  8\n",
            "odd,  7\n"
          ],
          "name": "stdout"
        }
      ]
    }
  ]
}