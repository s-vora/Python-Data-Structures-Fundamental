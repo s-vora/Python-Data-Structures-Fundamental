{
  "nbformat": 4,
  "nbformat_minor": 0,
  "metadata": {
    "colab": {
      "name": "1.07(tuples: InDepth).ipynb",
      "provenance": [],
      "collapsed_sections": []
    },
    "kernelspec": {
      "name": "python3",
      "display_name": "Python 3"
    }
  },
  "cells": [
    {
      "cell_type": "markdown",
      "metadata": {
        "id": "ZkZ0MhcHLsuE"
      },
      "source": [
        "# Tuples ( )\n",
        "\n",
        "\n",
        "*   very similar to a list\n",
        "*   main difference is that elements inside the tuple cannot be modified \n",
        "\n"
      ]
    },
    {
      "cell_type": "code",
      "metadata": {
        "id": "i47wOw3rL_G7",
        "colab": {
          "base_uri": "https://localhost:8080/",
          "height": 87
        },
        "outputId": "9666338b-7a0f-40c9-c1d8-6b263c95e790"
      },
      "source": [
        "#empty tuple\n",
        "t=()\n",
        "print(t)\n",
        "\n",
        "#tuple having integers\n",
        "t=(1, 2, 3)\n",
        "print(t)\n",
        "\n",
        "#tuple with mixed datatypes\n",
        "t = (1, 'cristiano', 2, 'abc', 2.5)\n",
        "print(t)\n",
        "\n",
        "#nested tuple\n",
        "t = (1,(2,3,4),[1,'messi','xyz'],8.9)\n",
        "print(t)"
      ],
      "execution_count": null,
      "outputs": [
        {
          "output_type": "stream",
          "text": [
            "()\n",
            "(1, 2, 3)\n",
            "(1, 'cristiano', 2, 'abc', 2.5)\n",
            "(1, (2, 3, 4), [1, 'messi', 'xyz'], 8.9)\n"
          ],
          "name": "stdout"
        }
      ]
    },
    {
      "cell_type": "code",
      "metadata": {
        "id": "UGvcY6TvPOms",
        "colab": {
          "base_uri": "https://localhost:8080/",
          "height": 35
        },
        "outputId": "11b16aac-b350-4e5f-c76d-274ce72b51c7"
      },
      "source": [
        "#only ( ) does not make it a tuple\n",
        "t = ('victoria')\n",
        "type(t)"
      ],
      "execution_count": null,
      "outputs": [
        {
          "output_type": "execute_result",
          "data": {
            "text/plain": [
              "str"
            ]
          },
          "metadata": {
            "tags": []
          },
          "execution_count": 2
        }
      ]
    },
    {
      "cell_type": "code",
      "metadata": {
        "id": "6FxhGuVgPdu7",
        "colab": {
          "base_uri": "https://localhost:8080/",
          "height": 35
        },
        "outputId": "67540bec-3f4d-402b-ddba-088e2de508c9"
      },
      "source": [
        "#need to add a comma at the end\n",
        "t = ('victoria',)\n",
        "type(t)"
      ],
      "execution_count": null,
      "outputs": [
        {
          "output_type": "execute_result",
          "data": {
            "text/plain": [
              "tuple"
            ]
          },
          "metadata": {
            "tags": []
          },
          "execution_count": 4
        }
      ]
    },
    {
      "cell_type": "code",
      "metadata": {
        "id": "_UDUPG8yPlWo",
        "colab": {
          "base_uri": "https://localhost:8080/",
          "height": 52
        },
        "outputId": "11bf511c-9730-4087-a500-0385ead3f407"
      },
      "source": [
        "#paranthesis are optional for a tuple, but need to add a ,\n",
        "tu = 'victoria', # , is required at the end only when there's one element in the tuple\n",
        "print(type(tu))\n",
        "print(tu)"
      ],
      "execution_count": null,
      "outputs": [
        {
          "output_type": "stream",
          "text": [
            "<class 'tuple'>\n",
            "('victoria',)\n"
          ],
          "name": "stdout"
        }
      ]
    },
    {
      "cell_type": "markdown",
      "metadata": {
        "id": "char7GX7bHkz"
      },
      "source": [
        "accessing elements from tuple"
      ]
    },
    {
      "cell_type": "code",
      "metadata": {
        "id": "9KiQEVU4TyD2",
        "colab": {
          "base_uri": "https://localhost:8080/",
          "height": 52
        },
        "outputId": "ce4bfce1-cc32-45c9-ad6a-6a56d8c66926"
      },
      "source": [
        "t = ('google','microsoft','amazon','facebook')\n",
        "print(t[1]) #print second element\n",
        "print(t[-1]) #print the last element element "
      ],
      "execution_count": null,
      "outputs": [
        {
          "output_type": "stream",
          "text": [
            "microsoft\n",
            "facebook\n"
          ],
          "name": "stdout"
        }
      ]
    },
    {
      "cell_type": "code",
      "metadata": {
        "id": "pBg7IFhgaSCy",
        "colab": {
          "base_uri": "https://localhost:8080/",
          "height": 52
        },
        "outputId": "edbea76d-25c3-4f6e-f6d5-21c7b7953234"
      },
      "source": [
        "#printing nested tuple\n",
        "t = (1,(2,3,4),6,7)\n",
        "print(t[1])\n",
        "print(t[1][0]) # inside the nested tuple"
      ],
      "execution_count": null,
      "outputs": [
        {
          "output_type": "stream",
          "text": [
            "(2, 3, 4)\n",
            "2\n"
          ],
          "name": "stdout"
        }
      ]
    },
    {
      "cell_type": "code",
      "metadata": {
        "id": "pvU9H0d4bKUT",
        "colab": {
          "base_uri": "https://localhost:8080/",
          "height": 87
        },
        "outputId": "a2b18611-7151-4014-cd3b-f0376245f5e4"
      },
      "source": [
        "#slicing \n",
        "t = (1 ,2, 3, 4, 5, 6)\n",
        "print(t[1:4]) # print from index 1 to index 4\n",
        "print(t[:-2]) # print from start to second last element\n",
        "print(t[1:-2:2]) # print from idex 1 to second last element, skipping 1 index\n",
        "print(t[:]) # print from start to end"
      ],
      "execution_count": null,
      "outputs": [
        {
          "output_type": "stream",
          "text": [
            "(2, 3, 4)\n",
            "(1, 2, 3, 4)\n",
            "(2, 4)\n",
            "(1, 2, 3, 4, 5, 6)\n"
          ],
          "name": "stdout"
        }
      ]
    },
    {
      "cell_type": "markdown",
      "metadata": {
        "id": "il8VzVguaBU_"
      },
      "source": [
        "Editing elements in a tuple\n",
        "(unlike lists, tuples are immutable)"
      ]
    },
    {
      "cell_type": "code",
      "metadata": {
        "id": "uSeMkdrbUph4",
        "colab": {
          "base_uri": "https://localhost:8080/",
          "height": 183
        },
        "outputId": "138961c1-0003-4b9f-de05-2ee50cf2b074"
      },
      "source": [
        "t = (1,2,3,4,5,6)\n",
        "t[2] = 0 # will get error"
      ],
      "execution_count": null,
      "outputs": [
        {
          "output_type": "error",
          "ename": "TypeError",
          "evalue": "ignored",
          "traceback": [
            "\u001b[0;31m---------------------------------------------------------------------------\u001b[0m",
            "\u001b[0;31mTypeError\u001b[0m                                 Traceback (most recent call last)",
            "\u001b[0;32m<ipython-input-5-7617dd31d5fd>\u001b[0m in \u001b[0;36m<module>\u001b[0;34m()\u001b[0m\n\u001b[1;32m      1\u001b[0m \u001b[0mt\u001b[0m \u001b[0;34m=\u001b[0m \u001b[0;34m(\u001b[0m\u001b[0;36m1\u001b[0m\u001b[0;34m,\u001b[0m\u001b[0;36m2\u001b[0m\u001b[0;34m,\u001b[0m\u001b[0;36m3\u001b[0m\u001b[0;34m,\u001b[0m\u001b[0;36m4\u001b[0m\u001b[0;34m,\u001b[0m\u001b[0;36m5\u001b[0m\u001b[0;34m,\u001b[0m\u001b[0;36m6\u001b[0m\u001b[0;34m)\u001b[0m\u001b[0;34m\u001b[0m\u001b[0;34m\u001b[0m\u001b[0m\n\u001b[0;32m----> 2\u001b[0;31m \u001b[0mt\u001b[0m\u001b[0;34m[\u001b[0m\u001b[0;36m2\u001b[0m\u001b[0;34m]\u001b[0m \u001b[0;34m=\u001b[0m \u001b[0;36m0\u001b[0m\u001b[0;34m\u001b[0m\u001b[0;34m\u001b[0m\u001b[0m\n\u001b[0m",
            "\u001b[0;31mTypeError\u001b[0m: 'tuple' object does not support item assignment"
          ]
        }
      ]
    },
    {
      "cell_type": "code",
      "metadata": {
        "id": "KzzEo2RodT4I",
        "colab": {
          "base_uri": "https://localhost:8080/",
          "height": 35
        },
        "outputId": "9f63746c-35f0-49bf-ad79-feebd373a4d4"
      },
      "source": [
        " # but if theres a list inside the tuple, then editing of elements inside the list is possible\n",
        " t = (1,2,3,4,[5,6,7],8,9)\n",
        " t[4][1] = 0 #change 6 to 0\n",
        " print(t)"
      ],
      "execution_count": null,
      "outputs": [
        {
          "output_type": "stream",
          "text": [
            "(1, 2, 3, 4, [5, 0, 7], 8, 9)\n"
          ],
          "name": "stdout"
        }
      ]
    },
    {
      "cell_type": "markdown",
      "metadata": {
        "id": "3-WHtDqqejJ8"
      },
      "source": [
        "concatenating tuples"
      ]
    },
    {
      "cell_type": "code",
      "metadata": {
        "id": "63O8hPyfeZww",
        "colab": {
          "base_uri": "https://localhost:8080/",
          "height": 52
        },
        "outputId": "343703df-0cc0-41e7-be12-b51a8f21701b"
      },
      "source": [
        "t = (1,2,3,4) + (5,6,7,8)\n",
        "print(t)\n",
        "#other operations\n",
        "t = (('dubai ')*4)\n",
        "print(t)"
      ],
      "execution_count": null,
      "outputs": [
        {
          "output_type": "stream",
          "text": [
            "(1, 2, 3, 4, 5, 6, 7, 8)\n",
            "dubai dubai dubai dubai \n"
          ],
          "name": "stdout"
        }
      ]
    },
    {
      "cell_type": "code",
      "metadata": {
        "id": "VBZqJbedl9Im"
      },
      "source": [
        "#tuple deletion\n",
        "t = (1,2,3,4,5)\n",
        "del t\n",
        "#can delete the entire tuple, however, del t[index] not possible"
      ],
      "execution_count": null,
      "outputs": []
    },
    {
      "cell_type": "code",
      "metadata": {
        "id": "tMF2e5Z7mW00",
        "colab": {
          "base_uri": "https://localhost:8080/",
          "height": 52
        },
        "outputId": "5ecab902-6947-47d2-f0c9-d494829d4e3a"
      },
      "source": [
        "#tuple count\n",
        "t = (1,2,3,1,3,3,4,1,3,2,4,6)\n",
        "print(t.count(3))\n",
        "tu = ('messi', 'neymar', 'ronaldo', 'messi', ' suarez')\n",
        "tu.count('messi')"
      ],
      "execution_count": null,
      "outputs": [
        {
          "output_type": "stream",
          "text": [
            "4\n"
          ],
          "name": "stdout"
        },
        {
          "output_type": "execute_result",
          "data": {
            "text/plain": [
              "2"
            ]
          },
          "metadata": {
            "tags": []
          },
          "execution_count": 20
        }
      ]
    },
    {
      "cell_type": "code",
      "metadata": {
        "id": "kH00P9l1nMTz",
        "colab": {
          "base_uri": "https://localhost:8080/",
          "height": 52
        },
        "outputId": "69c60ce4-677e-44e7-e434-5222e9c5eace"
      },
      "source": [
        "#Tuple index\n",
        "t = (1,2,3,1,3,3,4,1,3,2,4,6)\n",
        "print(t.index(3)) # returns index of the first occurence of 3\n",
        "print(t.index(1))"
      ],
      "execution_count": null,
      "outputs": [
        {
          "output_type": "stream",
          "text": [
            "2\n",
            "0\n"
          ],
          "name": "stdout"
        }
      ]
    },
    {
      "cell_type": "code",
      "metadata": {
        "id": "KfiJGRSAo14b",
        "colab": {
          "base_uri": "https://localhost:8080/",
          "height": 35
        },
        "outputId": "8ca173f3-9c57-4840-b219-c92d62da2c22"
      },
      "source": [
        "#Tuple membership\n",
        "t = (1,2,3,4,5,6)\n",
        "print(1 in t)"
      ],
      "execution_count": null,
      "outputs": [
        {
          "output_type": "stream",
          "text": [
            "True\n"
          ],
          "name": "stdout"
        }
      ]
    },
    {
      "cell_type": "code",
      "metadata": {
        "id": "_OqsMG4bo80T",
        "colab": {
          "base_uri": "https://localhost:8080/",
          "height": 35
        },
        "outputId": "9683f1ea-7e7c-4ede-ad98-6a79ab342d68"
      },
      "source": [
        "tu = 7 not in t \n",
        "print(check)"
      ],
      "execution_count": null,
      "outputs": [
        {
          "output_type": "stream",
          "text": [
            "False\n"
          ],
          "name": "stdout"
        }
      ]
    },
    {
      "cell_type": "markdown",
      "metadata": {
        "id": "Zr5JTbDrpNS4"
      },
      "source": [
        "Built-in functions"
      ]
    },
    {
      "cell_type": "code",
      "metadata": {
        "id": "0oq3gLSSpMbk",
        "colab": {
          "base_uri": "https://localhost:8080/",
          "height": 69
        },
        "outputId": "d2ee1450-8cab-4791-b3e4-54f2754503fa"
      },
      "source": [
        "t = (1,2,3,6,5,4)\n",
        "print(len(t))\n",
        "print(max(t))\n",
        "print(min(t))"
      ],
      "execution_count": null,
      "outputs": [
        {
          "output_type": "stream",
          "text": [
            "6\n",
            "6\n",
            "1\n"
          ],
          "name": "stdout"
        }
      ]
    }
  ]
}