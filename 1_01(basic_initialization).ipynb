{
  "nbformat": 4,
  "nbformat_minor": 0,
  "metadata": {
    "colab": {
      "name": "1.01(basic initialization).ipynb",
      "provenance": [],
      "collapsed_sections": []
    },
    "kernelspec": {
      "name": "python3",
      "display_name": "Python 3"
    }
  },
  "cells": [
    {
      "cell_type": "code",
      "metadata": {
        "colab": {
          "base_uri": "https://localhost:8080/"
        },
        "id": "yc6fnXm-kXIC",
        "outputId": "696fcc21-3894-4aa2-acbe-58bbc8f0282f"
      },
      "source": [
        "a = 10\r\n",
        "type(a)"
      ],
      "execution_count": 6,
      "outputs": [
        {
          "output_type": "execute_result",
          "data": {
            "text/plain": [
              "int"
            ]
          },
          "metadata": {
            "tags": []
          },
          "execution_count": 6
        }
      ]
    },
    {
      "cell_type": "code",
      "metadata": {
        "colab": {
          "base_uri": "https://localhost:8080/"
        },
        "id": "wsO1LbwAkac-",
        "outputId": "c3326a0c-ebac-4e3e-c4ac-a000a912957a"
      },
      "source": [
        "b = 2.5\r\n",
        "type(b)\r\n",
        "a+b"
      ],
      "execution_count": 7,
      "outputs": [
        {
          "output_type": "execute_result",
          "data": {
            "text/plain": [
              "12.5"
            ]
          },
          "metadata": {
            "tags": []
          },
          "execution_count": 7
        }
      ]
    },
    {
      "cell_type": "code",
      "metadata": {
        "id": "9Zfm8CHFB7Fh"
      },
      "source": [
        " a= 1 + 2 + 3 + \\\n",
        "    4 + 5 + 6 + \\\n",
        "    7 + 8 "
      ],
      "execution_count": 8,
      "outputs": []
    },
    {
      "cell_type": "code",
      "metadata": {
        "id": "3ezm9UKtCs1S",
        "colab": {
          "base_uri": "https://localhost:8080/"
        },
        "outputId": "329c2d40-d8db-4a2f-a127-76906b2e438d"
      },
      "source": [
        "a # multiline statements"
      ],
      "execution_count": 9,
      "outputs": [
        {
          "output_type": "execute_result",
          "data": {
            "text/plain": [
              "36"
            ]
          },
          "metadata": {
            "tags": []
          },
          "execution_count": 9
        }
      ]
    },
    {
      "cell_type": "code",
      "metadata": {
        "id": "xa7KqL0gCuvL",
        "colab": {
          "base_uri": "https://localhost:8080/"
        },
        "outputId": "91fb1120-b25f-4b32-8f1c-342e5689acd1"
      },
      "source": [
        "a = ( 1 + 2 + 3 \n",
        "     + 4 + 5 + 6 \n",
        "     + 7 + 8)\n",
        "print(a) # another way of multi line statements by using ()"
      ],
      "execution_count": 10,
      "outputs": [
        {
          "output_type": "stream",
          "text": [
            "36\n"
          ],
          "name": "stdout"
        }
      ]
    },
    {
      "cell_type": "code",
      "metadata": {
        "id": "KSXKdnmhDBE5"
      },
      "source": [
        "a= 10; b = 20 ; c = 30"
      ],
      "execution_count": 11,
      "outputs": []
    },
    {
      "cell_type": "code",
      "metadata": {
        "id": "hqaqEBBJDXJS",
        "colab": {
          "base_uri": "https://localhost:8080/"
        },
        "outputId": "cf3b5ac0-a83e-4c6b-bbf7-5b3f10b294cf"
      },
      "source": [
        "a;b;c # last way for multiline"
      ],
      "execution_count": 12,
      "outputs": [
        {
          "output_type": "execute_result",
          "data": {
            "text/plain": [
              "30"
            ]
          },
          "metadata": {
            "tags": []
          },
          "execution_count": 12
        }
      ]
    },
    {
      "cell_type": "code",
      "metadata": {
        "id": "VEFbvowNDaS5"
      },
      "source": [
        "a = 10\n",
        "b = 5.5\n",
        "c = \"ML\""
      ],
      "execution_count": 13,
      "outputs": []
    },
    {
      "cell_type": "code",
      "metadata": {
        "id": "xTZ85KpZEFag",
        "colab": {
          "base_uri": "https://localhost:8080/"
        },
        "outputId": "e3ddc47c-3a97-408b-ece6-64224102a938"
      },
      "source": [
        "#multiple assignments\n",
        "a , b , c = 10 , 5.5 , \"ML\"\n",
        "a,b,c\n"
      ],
      "execution_count": 14,
      "outputs": [
        {
          "output_type": "execute_result",
          "data": {
            "text/plain": [
              "(10, 5.5, 'ML')"
            ]
          },
          "metadata": {
            "tags": []
          },
          "execution_count": 14
        }
      ]
    },
    {
      "cell_type": "code",
      "metadata": {
        "id": "3ME-kreTENRb",
        "colab": {
          "base_uri": "https://localhost:8080/"
        },
        "outputId": "b5cf3daf-670b-4dce-fe98-3299ae1d8821"
      },
      "source": [
        "a  = b = c = \" ml\"\n",
        "a,b,c"
      ],
      "execution_count": 15,
      "outputs": [
        {
          "output_type": "execute_result",
          "data": {
            "text/plain": [
              "(' ml', ' ml', ' ml')"
            ]
          },
          "metadata": {
            "tags": []
          },
          "execution_count": 15
        }
      ]
    },
    {
      "cell_type": "code",
      "metadata": {
        "id": "LYEO231eZhLV",
        "colab": {
          "base_uri": "https://localhost:8080/"
        },
        "outputId": "02ea4831-a588-463b-c599-6e30374bcff2"
      },
      "source": [
        "#convert data types\n",
        "float(5)"
      ],
      "execution_count": 16,
      "outputs": [
        {
          "output_type": "execute_result",
          "data": {
            "text/plain": [
              "5.0"
            ]
          },
          "metadata": {
            "tags": []
          },
          "execution_count": 16
        }
      ]
    },
    {
      "cell_type": "code",
      "metadata": {
        "id": "-mG42EDjZl-9",
        "colab": {
          "base_uri": "https://localhost:8080/"
        },
        "outputId": "e1aeaa05-cf1a-4fb6-f904-568534593244"
      },
      "source": [
        "int(100.9)"
      ],
      "execution_count": 17,
      "outputs": [
        {
          "output_type": "execute_result",
          "data": {
            "text/plain": [
              "100"
            ]
          },
          "metadata": {
            "tags": []
          },
          "execution_count": 17
        }
      ]
    },
    {
      "cell_type": "code",
      "metadata": {
        "id": "aZ88MIfJZnIo",
        "colab": {
          "base_uri": "https://localhost:8080/",
          "height": 35
        },
        "outputId": "84b7b1a3-f194-4022-b49d-2468f3d944e3"
      },
      "source": [
        "str(40)"
      ],
      "execution_count": 18,
      "outputs": [
        {
          "output_type": "execute_result",
          "data": {
            "application/vnd.google.colaboratory.intrinsic+json": {
              "type": "string"
            },
            "text/plain": [
              "'40'"
            ]
          },
          "metadata": {
            "tags": []
          },
          "execution_count": 18
        }
      ]
    },
    {
      "cell_type": "code",
      "metadata": {
        "id": "iVpRM0g0ZpMa",
        "colab": {
          "base_uri": "https://localhost:8080/",
          "height": 35
        },
        "outputId": "930d13dc-4b52-4b7f-c162-6378451ca2a2"
      },
      "source": [
        "str('10p')"
      ],
      "execution_count": 19,
      "outputs": [
        {
          "output_type": "execute_result",
          "data": {
            "application/vnd.google.colaboratory.intrinsic+json": {
              "type": "string"
            },
            "text/plain": [
              "'10p'"
            ]
          },
          "metadata": {
            "tags": []
          },
          "execution_count": 19
        }
      ]
    },
    {
      "cell_type": "code",
      "metadata": {
        "id": "zl1QjQLBZxQP",
        "colab": {
          "base_uri": "https://localhost:8080/"
        },
        "outputId": "1d6f0ff3-941d-4126-85f1-5e7439e33e87"
      },
      "source": [
        "user = \"sid\"\n",
        "lines = 20\n",
        "print(\"congrats \" + user + \"! you have completed \"+ str(lines) + \" lines of code\")"
      ],
      "execution_count": 20,
      "outputs": [
        {
          "output_type": "stream",
          "text": [
            "congrats sid! you have completed 20 lines of code\n"
          ],
          "name": "stdout"
        }
      ]
    }
  ]
}