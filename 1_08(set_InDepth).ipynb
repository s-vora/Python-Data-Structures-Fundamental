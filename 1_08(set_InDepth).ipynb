{
  "nbformat": 4,
  "nbformat_minor": 0,
  "metadata": {
    "colab": {
      "name": "1.08(set: InDepth).ipynb",
      "provenance": [],
      "collapsed_sections": []
    },
    "kernelspec": {
      "name": "python3",
      "display_name": "Python 3"
    }
  },
  "cells": [
    {
      "cell_type": "markdown",
      "metadata": {
        "id": "0iHtS2WOr3r-"
      },
      "source": [
        "## Sets\n",
        "\n",
        "\n",
        "*   Unordered and UNIQUE collection of items (therefore, cannot be indexed)\n",
        "*   Mainly used to perform mathematical operations like union, intersection, symmetric difference, etc\n",
        "*   Can add elements\n",
        "\n",
        "\n",
        "\n",
        "\n"
      ]
    },
    {
      "cell_type": "code",
      "metadata": {
        "id": "JbW-PHeurav_",
        "colab": {
          "base_uri": "https://localhost:8080/"
        },
        "outputId": "65483e71-bf39-4e30-9d71-8a013682ac1e"
      },
      "source": [
        "# set of integers\n",
        "s = {1,2,3,4,5,2}\n",
        "print(s)"
      ],
      "execution_count": 1,
      "outputs": [
        {
          "output_type": "stream",
          "text": [
            "{1, 2, 3, 4, 5}\n"
          ],
          "name": "stdout"
        }
      ]
    },
    {
      "cell_type": "code",
      "metadata": {
        "id": "4sSvs9-Fs-0T",
        "colab": {
          "base_uri": "https://localhost:8080/"
        },
        "outputId": "1a683d2b-3bf3-42a8-e7ce-0e20227c4ee3"
      },
      "source": [
        "# can also make a set from list\n",
        "l = [1,2,3,4,5,2,4]\n",
        "s = set(l)\n",
        "print(s)\n",
        "# also vice-versa\n",
        "s = {1,2,3,4,3,5}\n",
        "l = list(s)\n",
        "print(l)\n"
      ],
      "execution_count": 2,
      "outputs": [
        {
          "output_type": "stream",
          "text": [
            "{1, 2, 3, 4, 5}\n",
            "[1, 2, 3, 4, 5]\n"
          ],
          "name": "stdout"
        }
      ]
    },
    {
      "cell_type": "code",
      "metadata": {
        "id": "yH_n_gxUux9f",
        "colab": {
          "base_uri": "https://localhost:8080/",
          "height": 218
        },
        "outputId": "daacea62-7dcd-4a04-a8fe-8ea1f0e583e3"
      },
      "source": [
        "# since sets are unordered, we cannot print them out index-wise\n",
        "s = {1,3}\n",
        "print(s[0])\n",
        "# s[1] = 9 ERROR "
      ],
      "execution_count": 3,
      "outputs": [
        {
          "output_type": "error",
          "ename": "TypeError",
          "evalue": "ignored",
          "traceback": [
            "\u001b[0;31m---------------------------------------------------------------------------\u001b[0m",
            "\u001b[0;31mTypeError\u001b[0m                                 Traceback (most recent call last)",
            "\u001b[0;32m<ipython-input-3-3af1d727eadb>\u001b[0m in \u001b[0;36m<module>\u001b[0;34m()\u001b[0m\n\u001b[1;32m      1\u001b[0m \u001b[0;31m# since sets are unordered, we cannot print them out index-wise\u001b[0m\u001b[0;34m\u001b[0m\u001b[0;34m\u001b[0m\u001b[0;34m\u001b[0m\u001b[0m\n\u001b[1;32m      2\u001b[0m \u001b[0ms\u001b[0m \u001b[0;34m=\u001b[0m \u001b[0;34m{\u001b[0m\u001b[0;36m1\u001b[0m\u001b[0;34m,\u001b[0m\u001b[0;36m3\u001b[0m\u001b[0;34m}\u001b[0m\u001b[0;34m\u001b[0m\u001b[0;34m\u001b[0m\u001b[0m\n\u001b[0;32m----> 3\u001b[0;31m \u001b[0mprint\u001b[0m\u001b[0;34m(\u001b[0m\u001b[0ms\u001b[0m\u001b[0;34m[\u001b[0m\u001b[0;36m0\u001b[0m\u001b[0;34m]\u001b[0m\u001b[0;34m)\u001b[0m\u001b[0;34m\u001b[0m\u001b[0;34m\u001b[0m\u001b[0m\n\u001b[0m\u001b[1;32m      4\u001b[0m \u001b[0;31m# s[1] = 9 ERROR\u001b[0m\u001b[0;34m\u001b[0m\u001b[0;34m\u001b[0m\u001b[0;34m\u001b[0m\u001b[0m\n",
            "\u001b[0;31mTypeError\u001b[0m: 'set' object does not support indexing"
          ]
        }
      ]
    },
    {
      "cell_type": "code",
      "metadata": {
        "id": "OTIKxTWuu9lP",
        "colab": {
          "base_uri": "https://localhost:8080/"
        },
        "outputId": "93fe1ea0-3903-44fe-ebd9-11ca037d1d27"
      },
      "source": [
        "s = {1,3}\n",
        "s.add(2)\n",
        "print(s)\n",
        "s.update({5,6,1})\n",
        "print(s)\n",
        "s.update([8,9],{10,2,3}) # first is a list, second is a set\n",
        "print(s)\n",
        "t = {'a','b','d'}\n",
        "t.add('c')\n",
        "print(t)"
      ],
      "execution_count": 5,
      "outputs": [
        {
          "output_type": "stream",
          "text": [
            "{1, 2, 3}\n",
            "{1, 2, 3, 5, 6}\n",
            "{1, 2, 3, 5, 6, 8, 9, 10}\n",
            "{'d', 'c', 'b', 'a'}\n"
          ],
          "name": "stdout"
        }
      ]
    },
    {
      "cell_type": "code",
      "metadata": {
        "id": "ncljnFkxwfp1",
        "colab": {
          "base_uri": "https://localhost:8080/"
        },
        "outputId": "4e21815f-b6dc-4e5e-9f27-b15a389339f2"
      },
      "source": [
        "s.remove(2) # remove and discard will delete the element\n",
        "print(s)\n",
        "s.discard(4)\n",
        "print(s)"
      ],
      "execution_count": 6,
      "outputs": [
        {
          "output_type": "stream",
          "text": [
            "{1, 3, 5, 6, 8, 9, 10}\n",
            "{1, 3, 5, 6, 8, 9, 10}\n"
          ],
          "name": "stdout"
        }
      ]
    },
    {
      "cell_type": "code",
      "metadata": {
        "id": "5WbsWRkG5tK_",
        "colab": {
          "base_uri": "https://localhost:8080/"
        },
        "outputId": "e232d569-9e7a-46f7-d4d1-9735f7138ae5"
      },
      "source": [
        "# the difference between remove() and discard() - \n",
        "s = {1,2,3}\n",
        "#s.remove(7): this will create an error\n",
        "s.discard(7) # no error\n",
        "print(s)"
      ],
      "execution_count": 7,
      "outputs": [
        {
          "output_type": "stream",
          "text": [
            "{1, 2, 3}\n"
          ],
          "name": "stdout"
        }
      ]
    },
    {
      "cell_type": "code",
      "metadata": {
        "id": "YkY4yG0j595u",
        "colab": {
          "base_uri": "https://localhost:8080/"
        },
        "outputId": "e63972fc-6dad-40ce-f4ac-fc428892a047"
      },
      "source": [
        "# pop() function is also used to delete elements\n",
        "s = {1,2,3,5,4}\n",
        "s.pop() # removes a random element\n",
        "print(s)\n",
        "s.clear() # removes all items from the set\n",
        "print(s)"
      ],
      "execution_count": 8,
      "outputs": [
        {
          "output_type": "stream",
          "text": [
            "{2, 3, 4, 5}\n",
            "set()\n"
          ],
          "name": "stdout"
        }
      ]
    },
    {
      "cell_type": "markdown",
      "metadata": {
        "id": "hXx5It808ax2"
      },
      "source": [
        "Python set operations"
      ]
    },
    {
      "cell_type": "code",
      "metadata": {
        "id": "WBuGWD1B8cgH",
        "colab": {
          "base_uri": "https://localhost:8080/"
        },
        "outputId": "67b1a740-a6d4-41b4-8a8f-86c0390832c2"
      },
      "source": [
        "s1 = {1,2,3,4,5}\n",
        "s2 = {3,4,5,6,7}\n",
        "print(s1 | s2) # union operator \n",
        "#print(s1.union(s2))  another way\n",
        "\n",
        "print(s1 & s2) # intersection operator\n",
        "#print(s1.intersection(s2)) another way\n",
        "\n",
        "print(s1 - s2) # items which are present in s1, but not in s2\n",
        "#print(s1.difference(s2)) another way\n",
        "\n",
        "print(s1^s2)# elements in only s1, and s2, but not in both. In other words, difference of union and intersection.\n",
        "#print(s1.symmetric_difference(s2)) another way\n",
        "\n",
        "x = {'a','b','c','d','e'}\n",
        "y = {'c','d'}\n",
        "print('checking if \"x\" is a subset of \"y\"?', x.issubset(y))\n",
        "print('checking if \"y\" is a subset of \"x\"?', y.issubset(x))\n"
      ],
      "execution_count": 9,
      "outputs": [
        {
          "output_type": "stream",
          "text": [
            "{1, 2, 3, 4, 5, 6, 7}\n",
            "{3, 4, 5}\n",
            "{1, 2}\n",
            "{1, 2, 6, 7}\n",
            "checking if \"x\" is a subset of \"y\"? False\n",
            "checking if \"y\" is a subset of \"x\"? True\n"
          ],
          "name": "stdout"
        }
      ]
    },
    {
      "cell_type": "markdown",
      "metadata": {
        "id": "DmizTPHelh0O"
      },
      "source": [
        "### Frozen Sets\n",
        "\n",
        "\n",
        "*   Same characteristics as a set, but can't be changed/modified once values are assigned\n",
        "*   Sets are mutable, thus, are unhashable. So sets cannot be used as dictionary keys. However, frozen sets, are hashable and can be used as keys in a dictionary\n",
        "*   Supports all functions as sets, apart from add/remove\n",
        "*   can be created by using frozenset()\n",
        "\n"
      ]
    },
    {
      "cell_type": "code",
      "metadata": {
        "id": "tHNZJbdJlZWO",
        "colab": {
          "base_uri": "https://localhost:8080/"
        },
        "outputId": "fb7961d2-18a6-4b1a-fa2d-9177bbd20b43"
      },
      "source": [
        "set1 = frozenset([1,2,3,4])\n",
        "set2 = frozenset({3,4,5,6})\n",
        "print(set1 | set2) #  union\n",
        "print(set1 & set2) # intersection\n",
        "print(set1 - set2) # in set1, but not in set2\n",
        "print(set1 ^ set2) #  union - intersection"
      ],
      "execution_count": 10,
      "outputs": [
        {
          "output_type": "stream",
          "text": [
            "frozenset({1, 2, 3, 4, 5, 6})\n",
            "frozenset({3, 4})\n",
            "frozenset({1, 2})\n",
            "frozenset({1, 2, 5, 6})\n"
          ],
          "name": "stdout"
        }
      ]
    }
  ]
}