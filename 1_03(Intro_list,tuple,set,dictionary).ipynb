{
  "nbformat": 4,
  "nbformat_minor": 0,
  "metadata": {
    "colab": {
      "name": "1.03(Intro: list,tuple,set,dictionary).ipynb",
      "provenance": [],
      "collapsed_sections": []
    },
    "kernelspec": {
      "name": "python3",
      "display_name": "Python 3"
    }
  },
  "cells": [
    {
      "cell_type": "markdown",
      "metadata": {
        "id": "ESw29lfIm9Y2"
      },
      "source": [
        "### Data Structures\r\n",
        "### Overview\r\n"
      ]
    },
    {
      "cell_type": "markdown",
      "metadata": {
        "id": "wRAZ8EqOWvZw"
      },
      "source": [
        "LIST       [ ]\n",
        "\n"
      ]
    },
    {
      "cell_type": "markdown",
      "metadata": {
        "id": "8eljb70AUqqz"
      },
      "source": [
        "DO NOT NEED TO BE IN THE SAME DATA TYPE IN A SINGLE LIST"
      ]
    },
    {
      "cell_type": "code",
      "metadata": {
        "id": "10A0fB7_UxAy",
        "colab": {
          "base_uri": "https://localhost:8080/"
        },
        "outputId": "b3cfe904-d549-40ca-ec37-fc7ba0ea3266"
      },
      "source": [
        "a = [10,20.5,\"HELLO\",]\n",
        "print(a[1])"
      ],
      "execution_count": 1,
      "outputs": [
        {
          "output_type": "stream",
          "text": [
            "20.5\n"
          ],
          "name": "stdout"
        }
      ]
    },
    {
      "cell_type": "code",
      "metadata": {
        "id": "p-XddG6cWHJW",
        "colab": {
          "base_uri": "https://localhost:8080/"
        },
        "outputId": "e8710d0f-bb5b-4342-fcff-b51ddeac2378"
      },
      "source": [
        "a[1] = 3 #lists are mutable(editable)\n",
        "print(a)"
      ],
      "execution_count": 2,
      "outputs": [
        {
          "output_type": "stream",
          "text": [
            "[10, 3, 'HELLO']\n"
          ],
          "name": "stdout"
        }
      ]
    },
    {
      "cell_type": "markdown",
      "metadata": {
        "id": "DRVNvPdsWyD-"
      },
      "source": [
        "TUPLE   ( )"
      ]
    },
    {
      "cell_type": "code",
      "metadata": {
        "id": "NhA80fNWWZSu",
        "colab": {
          "base_uri": "https://localhost:8080/"
        },
        "outputId": "8919f3d2-74d7-4c16-c810-e82265f22ef6"
      },
      "source": [
        "t = (1,1.5,\"HI\")\n",
        "print(t) #CANNOT MODIFY A TUPLE LIKE LISTS"
      ],
      "execution_count": 3,
      "outputs": [
        {
          "output_type": "stream",
          "text": [
            "(1, 1.5, 'HI')\n"
          ],
          "name": "stdout"
        }
      ]
    },
    {
      "cell_type": "code",
      "metadata": {
        "id": "h5UE6X2GRo3g",
        "colab": {
          "base_uri": "https://localhost:8080/"
        },
        "outputId": "2745d284-0198-448c-b6f1-3d4731124d7a"
      },
      "source": [
        "print(t[2])"
      ],
      "execution_count": 4,
      "outputs": [
        {
          "output_type": "stream",
          "text": [
            "HI\n"
          ],
          "name": "stdout"
        }
      ]
    },
    {
      "cell_type": "markdown",
      "metadata": {
        "id": "WhMh8R8mXULH"
      },
      "source": [
        " SET  { }\n",
        " "
      ]
    },
    {
      "cell_type": "code",
      "metadata": {
        "id": "8A7dIfZdW8oY",
        "colab": {
          "base_uri": "https://localhost:8080/",
          "height": 131
        },
        "outputId": "6a694102-1fc8-4da1-ee72-23c0054d4a0d"
      },
      "source": [
        "a = {10,30,30,40,5} //only saves UNIQUE value\n",
        "print(a)"
      ],
      "execution_count": 5,
      "outputs": [
        {
          "output_type": "error",
          "ename": "SyntaxError",
          "evalue": "ignored",
          "traceback": [
            "\u001b[0;36m  File \u001b[0;32m\"<ipython-input-5-11d8bf54c684>\"\u001b[0;36m, line \u001b[0;32m1\u001b[0m\n\u001b[0;31m    a = {10,30,30,40,5} //only saves UNIQUE value\u001b[0m\n\u001b[0m                                   ^\u001b[0m\n\u001b[0;31mSyntaxError\u001b[0m\u001b[0;31m:\u001b[0m invalid syntax\n"
          ]
        }
      ]
    },
    {
      "cell_type": "code",
      "metadata": {
        "id": "fHiSlqaeXZkR",
        "colab": {
          "base_uri": "https://localhost:8080/"
        },
        "outputId": "64bdec87-8c25-4bef-8017-29e2abb4ba84"
      },
      "source": [
        "print(type(a))"
      ],
      "execution_count": 8,
      "outputs": [
        {
          "output_type": "stream",
          "text": [
            "<class 'list'>\n"
          ],
          "name": "stdout"
        }
      ]
    },
    {
      "cell_type": "markdown",
      "metadata": {
        "id": "AcQbfm29XgR-"
      },
      "source": [
        "cannot do print(a[4]) you will get error\n",
        "eg."
      ]
    },
    {
      "cell_type": "code",
      "metadata": {
        "id": "IqzZ5rqNXedE",
        "colab": {
          "base_uri": "https://localhost:8080/"
        },
        "outputId": "d1dfa013-d104-4610-c453-e3d813013cc0"
      },
      "source": [
        "print(a[1])"
      ],
      "execution_count": 9,
      "outputs": [
        {
          "output_type": "stream",
          "text": [
            "3\n"
          ],
          "name": "stdout"
        }
      ]
    },
    {
      "cell_type": "markdown",
      "metadata": {
        "id": "0a4LkxdRYZpe"
      },
      "source": [
        "DICTIONARY - KEY VALUE PAIR\n",
        "(MAP IN JAVA) {'key' : \"value\" }\n",
        "\n",
        "\n",
        "---\n"
      ]
    },
    {
      "cell_type": "code",
      "metadata": {
        "id": "Pk2z3VUFXu59",
        "colab": {
          "base_uri": "https://localhost:8080/"
        },
        "outputId": "3aceac8f-07b7-4dd5-8243-f2fc8218ae95"
      },
      "source": [
        "d  = {\"a\":\"apple\", 'b' : \"bat\", 'd' : \"dog\"}\n",
        "print(d['a'])\n",
        "d['b'] = \"baby\"\n",
        "print(d)"
      ],
      "execution_count": 10,
      "outputs": [
        {
          "output_type": "stream",
          "text": [
            "apple\n",
            "{'a': 'apple', 'b': 'baby', 'd': 'dog'}\n"
          ],
          "name": "stdout"
        }
      ]
    },
    {
      "cell_type": "code",
      "metadata": {
        "id": "pAHzQZTyY1iZ",
        "colab": {
          "base_uri": "https://localhost:8080/"
        },
        "outputId": "bbddd328-5846-4df2-ebbd-18da803d94a1"
      },
      "source": [
        "print(d['d'])"
      ],
      "execution_count": 11,
      "outputs": [
        {
          "output_type": "stream",
          "text": [
            "dog\n"
          ],
          "name": "stdout"
        }
      ]
    },
    {
      "cell_type": "code",
      "metadata": {
        "id": "iqyfW2Jtaai4",
        "colab": {
          "base_uri": "https://localhost:8080/"
        },
        "outputId": "cb3abead-b2d3-4b62-dd41-2c56593d2168"
      },
      "source": [
        "user = \"George\"\n",
        "lines = 20\n",
        "print(\"congrats \" + user + \"! you have completed \"+ str(lines) + \" lines of code\")"
      ],
      "execution_count": 12,
      "outputs": [
        {
          "output_type": "stream",
          "text": [
            "congrats George! you have completed 20 lines of code\n"
          ],
          "name": "stdout"
        }
      ]
    },
    {
      "cell_type": "code",
      "metadata": {
        "id": "iey84L8FabeW",
        "colab": {
          "base_uri": "https://localhost:8080/"
        },
        "outputId": "eb7f3087-2b73-483a-c333-fafce23c0002"
      },
      "source": [
        "a = [1,2,3]\n",
        "print(type(a))\n",
        "print(a)\n",
        "s = set(a)\n",
        "print(type(s))\n",
        "print(s)"
      ],
      "execution_count": 13,
      "outputs": [
        {
          "output_type": "stream",
          "text": [
            "<class 'list'>\n",
            "[1, 2, 3]\n",
            "<class 'set'>\n",
            "{1, 2, 3}\n"
          ],
          "name": "stdout"
        }
      ]
    },
    {
      "cell_type": "code",
      "metadata": {
        "id": "l57xOs33a7aK",
        "colab": {
          "base_uri": "https://localhost:8080/"
        },
        "outputId": "a69b480c-6c6d-4d2f-bd24-c0d3d508c61d"
      },
      "source": [
        "user = \"barcelona\"\n",
        "print(user[4])\n",
        "l = list(user)\n",
        "print(l) # break up characters\n",
        "s = set(user)\n",
        "print(s) # it doesnt care about order\n",
        "t = tuple(user) # similar to list\n",
        "print(t)\n"
      ],
      "execution_count": 14,
      "outputs": [
        {
          "output_type": "stream",
          "text": [
            "e\n",
            "['b', 'a', 'r', 'c', 'e', 'l', 'o', 'n', 'a']\n",
            "{'o', 'r', 'e', 'b', 'a', 'l', 'n', 'c'}\n",
            "('b', 'a', 'r', 'c', 'e', 'l', 'o', 'n', 'a')\n"
          ],
          "name": "stdout"
        }
      ]
    },
    {
      "cell_type": "markdown",
      "metadata": {
        "id": "bclIsNIWZ1If"
      },
      "source": [
        "### SET CANNOT PRINT INDIVIDUAL VALUES OR EDIT VALUES\n",
        "### TUPLE CANNOT EDIT VALUES\n",
        "\n"
      ]
    },
    {
      "cell_type": "code",
      "metadata": {
        "id": "O0InlMO4a7wX",
        "colab": {
          "base_uri": "https://localhost:8080/"
        },
        "outputId": "d3e753b2-a756-4162-ba35-e2d18698f9e2"
      },
      "source": [
        "a = {1,2,3,\"hi\"}\n",
        "print(\"type of a is\",type(a))\n",
        "b = [1,2,\"hi\",4]\n",
        "print(\"type of b is\",type(b))\n",
        "c = (1,\"q\",3,4)\n",
        "print(\"type of c is\",type(c))\n",
        "d = {'1':\"one\",'2':\"two\",'3':\"three\"}\n",
        "print(\"type of c is\",type(d))\n",
        "# set cannot print individual values print(a[2])\n",
        "print(b[1])\n",
        "print(c[0])\n",
        "print(d['2'])\n",
        "b[0] = 9\n",
        "d[1] = 5\n",
        "\n"
      ],
      "execution_count": 15,
      "outputs": [
        {
          "output_type": "stream",
          "text": [
            "type of a is <class 'set'>\n",
            "type of b is <class 'list'>\n",
            "type of c is <class 'tuple'>\n",
            "type of c is <class 'dict'>\n",
            "2\n",
            "1\n",
            "two\n"
          ],
          "name": "stdout"
        }
      ]
    }
  ]
}