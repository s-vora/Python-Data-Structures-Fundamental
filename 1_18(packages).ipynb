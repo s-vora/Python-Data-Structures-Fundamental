{
  "nbformat": 4,
  "nbformat_minor": 0,
  "metadata": {
    "colab": {
      "name": "1.18(packages).ipynb",
      "provenance": [],
      "collapsed_sections": [],
      "authorship_tag": "ABX9TyOj5P/nAxsHWCyvvjplfp5G",
      "include_colab_link": true
    },
    "kernelspec": {
      "name": "python3",
      "display_name": "Python 3"
    }
  },
  "cells": [
    {
      "cell_type": "markdown",
      "metadata": {
        "id": "view-in-github",
        "colab_type": "text"
      },
      "source": [
        "<a href=\"https://colab.research.google.com/github/s-vora/Python-Data-Structures-Fundamental/blob/main/1_18(packages).ipynb\" target=\"_parent\"><img src=\"https://colab.research.google.com/assets/colab-badge.svg\" alt=\"Open In Colab\"/></a>"
      ]
    },
    {
      "cell_type": "markdown",
      "metadata": {
        "id": "53HBN7S_vhj6"
      },
      "source": [
        "# Package"
      ]
    },
    {
      "cell_type": "markdown",
      "metadata": {
        "id": "qm_iEtyQvhkA"
      },
      "source": [
        "Packages are a way of structuring Python’s module namespace by using “dotted module names”.\n",
        "\n",
        "A directory must contain a file named __init__.py in order for Python to consider it as a package. This file can be left empty but we generally place the initialization code for that package in this file."
      ]
    },
    {
      "cell_type": "markdown",
      "metadata": {
        "id": "G4Q1eTVLvhkD"
      },
      "source": [
        "![title](package.jpg)"
      ]
    },
    {
      "cell_type": "markdown",
      "metadata": {
        "id": "O9b94RorvhkG"
      },
      "source": [
        "# importing module from a package"
      ]
    },
    {
      "cell_type": "markdown",
      "metadata": {
        "id": "rkSzFvG_vhkI"
      },
      "source": [
        "We can import modules from packages using the dot (.) operator."
      ]
    },
    {
      "cell_type": "code",
      "metadata": {
        "collapsed": true,
        "id": "fgFp94ggvhkK"
      },
      "source": [
        "# import Game.Image.open \r\n",
        "#game is the package\r\n",
        "# image is the sub package\r\n",
        "#open is the .py file"
      ],
      "execution_count": 1,
      "outputs": []
    }
  ]
}