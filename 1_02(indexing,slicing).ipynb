{
  "nbformat": 4,
  "nbformat_minor": 0,
  "metadata": {
    "colab": {
      "name": "1.02(indexing,slicing).ipynb",
      "provenance": [],
      "collapsed_sections": []
    },
    "kernelspec": {
      "name": "python3",
      "display_name": "Python 3"
    }
  },
  "cells": [
    {
      "cell_type": "code",
      "metadata": {
        "id": "emagM4x1Ej-g",
        "colab": {
          "base_uri": "https://localhost:8080/"
        },
        "outputId": "9f094e41-3fb5-4849-8767-0d1044b4da65"
      },
      "source": [
        "x = 3\n",
        "print(id(x)) \n",
        "#print address id of x"
      ],
      "execution_count": 1,
      "outputs": [
        {
          "output_type": "stream",
          "text": [
            "10914560\n"
          ],
          "name": "stdout"
        }
      ]
    },
    {
      "cell_type": "code",
      "metadata": {
        "id": "cSr5Cie2Evti",
        "colab": {
          "base_uri": "https://localhost:8080/"
        },
        "outputId": "e5a7dba1-a7c6-48f5-8190-9e8fa05b154b"
      },
      "source": [
        "y = 3\n",
        "print(id(y))"
      ],
      "execution_count": 2,
      "outputs": [
        {
          "output_type": "stream",
          "text": [
            "10914560\n"
          ],
          "name": "stdout"
        }
      ]
    },
    {
      "cell_type": "markdown",
      "metadata": {
        "id": "Q3HSQs1LFSA6"
      },
      "source": [
        "Y AND X have exactly the same address index.\n",
        "Both point to 3"
      ]
    },
    {
      "cell_type": "code",
      "metadata": {
        "id": "mdeEWosfFRIH",
        "colab": {
          "base_uri": "https://localhost:8080/"
        },
        "outputId": "86801540-600c-4ea8-d00e-cf6de8347ff5"
      },
      "source": [
        "a = 5\n",
        "print(a,'type of a is - ', type(a))"
      ],
      "execution_count": 3,
      "outputs": [
        {
          "output_type": "stream",
          "text": [
            "5 type of a is -  <class 'int'>\n"
          ],
          "name": "stdout"
        }
      ]
    },
    {
      "cell_type": "code",
      "metadata": {
        "id": "M0ZXvQWMGJZ5",
        "colab": {
          "base_uri": "https://localhost:8080/"
        },
        "outputId": "fa360bdd-4a7d-43ca-d437-7a417d4408c8"
      },
      "source": [
        "a = 5.8\n",
        "print(a,'type of a is - ', type(a))"
      ],
      "execution_count": 4,
      "outputs": [
        {
          "output_type": "stream",
          "text": [
            "5.8 type of a is -  <class 'float'>\n"
          ],
          "name": "stdout"
        }
      ]
    },
    {
      "cell_type": "code",
      "metadata": {
        "id": "S9jp9RL6GXav",
        "colab": {
          "base_uri": "https://localhost:8080/"
        },
        "outputId": "153764bc-4d36-4860-ca69-ed89daedc27c"
      },
      "source": [
        "a = 1 + 2j\n",
        "print(a, \"is it a comeplex? \")\n",
        "print(isinstance(a,complex)) # boolean o/p\n",
        "print(type(a))\n",
        "b = 12\n",
        "print(isinstance(b,int))\n"
      ],
      "execution_count": 5,
      "outputs": [
        {
          "output_type": "stream",
          "text": [
            "(1+2j) is it a comeplex? \n",
            "True\n",
            "<class 'complex'>\n",
            "True\n"
          ],
          "name": "stdout"
        }
      ]
    },
    {
      "cell_type": "code",
      "metadata": {
        "id": "1Iz4v7a5GpaW",
        "colab": {
          "base_uri": "https://localhost:8080/"
        },
        "outputId": "4963545b-6a28-4c5c-90a2-2f2a2a8f4776"
      },
      "source": [
        "a = True\n",
        "a"
      ],
      "execution_count": 6,
      "outputs": [
        {
          "output_type": "execute_result",
          "data": {
            "text/plain": [
              "True"
            ]
          },
          "metadata": {
            "tags": []
          },
          "execution_count": 6
        }
      ]
    },
    {
      "cell_type": "code",
      "metadata": {
        "id": "_XK6n4dtHbSY",
        "colab": {
          "base_uri": "https://localhost:8080/"
        },
        "outputId": "97fcd004-d56d-4521-ae75-e084ef016935"
      },
      "source": [
        "s = 'Machine learning'\n",
        "print(s)\n",
        "print(type(s))\n",
        "s = \"artificial intelligence\"\n",
        "print(s)\n",
        "print(type(s))"
      ],
      "execution_count": 7,
      "outputs": [
        {
          "output_type": "stream",
          "text": [
            "Machine learning\n",
            "<class 'str'>\n",
            "artificial intelligence\n",
            "<class 'str'>\n"
          ],
          "name": "stdout"
        }
      ]
    },
    {
      "cell_type": "code",
      "metadata": {
        "id": "3TYZgaywIY6f",
        "colab": {
          "base_uri": "https://localhost:8080/"
        },
        "outputId": "2ffbf59c-af7e-48ef-91c0-73c7a54b56af"
      },
      "source": [
        "s = \"\"\"this\n",
        "is\n",
        "a\n",
        "Python\n",
        "code\"\"\"\n",
        "print(s)\n",
        "print(len(s))"
      ],
      "execution_count": 8,
      "outputs": [
        {
          "output_type": "stream",
          "text": [
            "this\n",
            "is\n",
            "a\n",
            "Python\n",
            "code\n",
            "21\n"
          ],
          "name": "stdout"
        }
      ]
    },
    {
      "cell_type": "code",
      "metadata": {
        "id": "36ftDSDOMufj",
        "colab": {
          "base_uri": "https://localhost:8080/"
        },
        "outputId": "1740201e-150c-44f7-8cab-3808d5a719c3"
      },
      "source": [
        "print(s[0]) # every character is aligned as an array. called unicode"
      ],
      "execution_count": 9,
      "outputs": [
        {
          "output_type": "stream",
          "text": [
            "t\n"
          ],
          "name": "stdout"
        }
      ]
    },
    {
      "cell_type": "code",
      "metadata": {
        "id": "EPqWPLSgNAVQ",
        "colab": {
          "base_uri": "https://localhost:8080/"
        },
        "outputId": "bc14f966-a5c4-4f16-b598-50df2e2aa221"
      },
      "source": [
        "print(s[len(s)-1])"
      ],
      "execution_count": 10,
      "outputs": [
        {
          "output_type": "stream",
          "text": [
            "e\n"
          ],
          "name": "stdout"
        }
      ]
    },
    {
      "cell_type": "code",
      "metadata": {
        "id": "kZSKqaOiNFLu",
        "colab": {
          "base_uri": "https://localhost:8080/"
        },
        "outputId": "be7b7635-1e69-443f-c8b8-bd79b1f305c3"
      },
      "source": [
        "#slicing\n",
        "print(s[5:])"
      ],
      "execution_count": 11,
      "outputs": [
        {
          "output_type": "stream",
          "text": [
            "is\n",
            "a\n",
            "Python\n",
            "code\n"
          ],
          "name": "stdout"
        }
      ]
    },
    {
      "cell_type": "code",
      "metadata": {
        "id": "s4k2o-3bUDDB",
        "colab": {
          "base_uri": "https://localhost:8080/"
        },
        "outputId": "a5e0e474-b022-4344-a3d8-2dc073b0de1e"
      },
      "source": [
        "print(s[3:17:2])\n",
        "# start from index 3, go to index 17, and skip index 2"
      ],
      "execution_count": 12,
      "outputs": [
        {
          "output_type": "stream",
          "text": [
            "si\n",
            "\n",
            "yhn\n"
          ],
          "name": "stdout"
        }
      ]
    }
  ]
}