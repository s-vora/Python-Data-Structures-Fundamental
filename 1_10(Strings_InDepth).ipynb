{
  "nbformat": 4,
  "nbformat_minor": 0,
  "metadata": {
    "colab": {
      "name": "1.10(Strings: InDepth).ipynb",
      "provenance": [],
      "collapsed_sections": [],
      "authorship_tag": "ABX9TyMQwQKetboI/8XqNsJ2ffX6",
      "include_colab_link": true
    },
    "kernelspec": {
      "name": "python3",
      "display_name": "Python 3"
    }
  },
  "cells": [
    {
      "cell_type": "markdown",
      "metadata": {
        "id": "view-in-github",
        "colab_type": "text"
      },
      "source": [
        "<a href=\"https://colab.research.google.com/github/s-vora/Python-Data-Structures-Fundamental/blob/main/1_10(Strings_InDepth).ipynb\" target=\"_parent\"><img src=\"https://colab.research.google.com/assets/colab-badge.svg\" alt=\"Open In Colab\"/></a>"
      ]
    },
    {
      "cell_type": "markdown",
      "metadata": {
        "id": "AVNSXo03UmP-"
      },
      "source": [
        "## Strings\n",
        "\n",
        "\n",
        "\n",
        "*   Sequence of characters\n",
        "*   Computers deal with 0's and 1's and what you see is characters\n",
        "*   Conversion of characters to 0's and 1's is called encoding, and the vice versa process is called decoding\n",
        "*   In python, string is a sequence of unicode characters\n",
        "*   Strings are IMMUTABLE\n"
      ]
    },
    {
      "cell_type": "code",
      "metadata": {
        "id": "RH8_s3YsTrjq",
        "colab": {
          "base_uri": "https://localhost:8080/",
          "height": 69
        },
        "outputId": "e666c8e4-e091-43e6-ce6e-0afedfa5af37"
      },
      "source": [
        "# creating a string\n",
        "myString = 'Hello' # single qoute\n",
        "print(myString)\n",
        "\n",
        "myString = \"Hello\" # double qoutes\n",
        "print(myString)\n",
        "\n",
        "myString = '''Hello''' # 3 single qoutes\n",
        "print(myString)"
      ],
      "execution_count": null,
      "outputs": [
        {
          "output_type": "stream",
          "text": [
            "Hello\n",
            "Hello\n",
            "Hello\n"
          ],
          "name": "stdout"
        }
      ]
    },
    {
      "cell_type": "markdown",
      "metadata": {
        "id": "K88zt7gAYA_u"
      },
      "source": [
        "Accessing characters in a String"
      ]
    },
    {
      "cell_type": "code",
      "metadata": {
        "id": "9SGV3v7zV5Ss",
        "colab": {
          "base_uri": "https://localhost:8080/",
          "height": 69
        },
        "outputId": "98a458d2-2c8b-40e2-be4b-48d3b01d146f"
      },
      "source": [
        "myString = 'Hello'\n",
        "# print first element\n",
        "print(myString[0])\n",
        "\n",
        "# print last element\n",
        "print(myString[-1])\n",
        "\n",
        "# slicing\n",
        "print(myString[1:5])"
      ],
      "execution_count": null,
      "outputs": [
        {
          "output_type": "stream",
          "text": [
            "H\n",
            "o\n",
            "ello\n"
          ],
          "name": "stdout"
        }
      ]
    },
    {
      "cell_type": "code",
      "metadata": {
        "id": "SEwuf4tWYsfK",
        "colab": {
          "base_uri": "https://localhost:8080/",
          "height": 218
        },
        "outputId": "b45f9d26-6c34-4ea8-d9f4-ae164ce969ee"
      },
      "source": [
        "# we cannot delete or remove or change characters from a string. but the string can be enitrly deleted/changed/removed\n",
        "myString = \"hi\"\n",
        "print(myString)\n",
        "del myString\n",
        "print(myString) # error"
      ],
      "execution_count": null,
      "outputs": [
        {
          "output_type": "stream",
          "text": [
            "hi\n"
          ],
          "name": "stdout"
        },
        {
          "output_type": "error",
          "ename": "NameError",
          "evalue": "ignored",
          "traceback": [
            "\u001b[0;31m---------------------------------------------------------------------------\u001b[0m",
            "\u001b[0;31mNameError\u001b[0m                                 Traceback (most recent call last)",
            "\u001b[0;32m<ipython-input-18-29dc2e7e9020>\u001b[0m in \u001b[0;36m<module>\u001b[0;34m()\u001b[0m\n\u001b[1;32m      3\u001b[0m \u001b[0mprint\u001b[0m\u001b[0;34m(\u001b[0m\u001b[0mmyString\u001b[0m\u001b[0;34m)\u001b[0m\u001b[0;34m\u001b[0m\u001b[0;34m\u001b[0m\u001b[0m\n\u001b[1;32m      4\u001b[0m \u001b[0;32mdel\u001b[0m \u001b[0mmyString\u001b[0m\u001b[0;34m\u001b[0m\u001b[0;34m\u001b[0m\u001b[0m\n\u001b[0;32m----> 5\u001b[0;31m \u001b[0mprint\u001b[0m\u001b[0;34m(\u001b[0m\u001b[0mmyString\u001b[0m\u001b[0;34m)\u001b[0m \u001b[0;31m# error\u001b[0m\u001b[0;34m\u001b[0m\u001b[0;34m\u001b[0m\u001b[0m\n\u001b[0m",
            "\u001b[0;31mNameError\u001b[0m: name 'myString' is not defined"
          ]
        }
      ]
    },
    {
      "cell_type": "code",
      "metadata": {
        "id": "fKF9CyYNDE40",
        "colab": {
          "base_uri": "https://localhost:8080/",
          "height": 52
        },
        "outputId": "838b127a-3578-4b76-f075-b95ffcae9cb2"
      },
      "source": [
        "#concatenation of strings\n",
        "s1 = \"hello\"\n",
        "s2 = \"world\"\n",
        "print(s1+s2)\n",
        "print(s2*4)"
      ],
      "execution_count": null,
      "outputs": [
        {
          "output_type": "stream",
          "text": [
            "helloworld\n",
            "worldworldworldworld\n"
          ],
          "name": "stdout"
        }
      ]
    },
    {
      "cell_type": "code",
      "metadata": {
        "id": "eFyHm7igDYGx",
        "colab": {
          "base_uri": "https://localhost:8080/",
          "height": 35
        },
        "outputId": "4fc15f84-1d6c-4335-fa3f-f8d5ff8e7a43"
      },
      "source": [
        "#iterating thro a string\n",
        "count = 0;\n",
        "s = \"hello worldo\"\n",
        "for l in s:\n",
        "  if l == 'o':\n",
        "    count +=1\n",
        "print(\"number of 'o's: \",count )"
      ],
      "execution_count": null,
      "outputs": [
        {
          "output_type": "stream",
          "text": [
            "number of 'o's:  3\n"
          ],
          "name": "stdout"
        }
      ]
    },
    {
      "cell_type": "code",
      "metadata": {
        "id": "_AhQmf5QDwFk",
        "colab": {
          "base_uri": "https://localhost:8080/",
          "height": 52
        },
        "outputId": "ab54145f-3a03-42ba-b307-f7825944ab7b"
      },
      "source": [
        "# cheking if element is oresent in a string\n",
        "print( 'l' in \"hello world\")\n",
        "print( \"p\" in \"hello world\")"
      ],
      "execution_count": null,
      "outputs": [
        {
          "output_type": "stream",
          "text": [
            "True\n",
            "False\n"
          ],
          "name": "stdout"
        }
      ]
    },
    {
      "cell_type": "markdown",
      "metadata": {
        "id": "roYlZl-WEYKe"
      },
      "source": [
        "### String Methods"
      ]
    },
    {
      "cell_type": "code",
      "metadata": {
        "id": "kT_NJSiPET2E",
        "colab": {
          "base_uri": "https://localhost:8080/",
          "height": 35
        },
        "outputId": "6d8b0708-d6b0-4a14-bef5-389f8b46bed6"
      },
      "source": [
        "# to convert all characters to lower case\n",
        "\"HELlo\".lower()"
      ],
      "execution_count": null,
      "outputs": [
        {
          "output_type": "execute_result",
          "data": {
            "application/vnd.google.colaboratory.intrinsic+json": {
              "type": "string"
            },
            "text/plain": [
              "'hello'"
            ]
          },
          "metadata": {
            "tags": []
          },
          "execution_count": 9
        }
      ]
    },
    {
      "cell_type": "code",
      "metadata": {
        "id": "CdA9fXQzFW8Y",
        "colab": {
          "base_uri": "https://localhost:8080/",
          "height": 35
        },
        "outputId": "10d2511b-e072-4190-fece-9d5dd117ebfc"
      },
      "source": [
        "# to convert all characters to upper case\n",
        "\"hello\".upper()"
      ],
      "execution_count": null,
      "outputs": [
        {
          "output_type": "execute_result",
          "data": {
            "application/vnd.google.colaboratory.intrinsic+json": {
              "type": "string"
            },
            "text/plain": [
              "'HELLO'"
            ]
          },
          "metadata": {
            "tags": []
          },
          "execution_count": 10
        }
      ]
    },
    {
      "cell_type": "code",
      "metadata": {
        "id": "w7-6d2ytFbt-",
        "colab": {
          "base_uri": "https://localhost:8080/",
          "height": 35
        },
        "outputId": "c6bf871e-e144-47bd-da4b-abca4c7317d6"
      },
      "source": [
        "# will split the string to a list according to the parameter passed\n",
        "\"this function will split words and make a list\".split(\"t\")"
      ],
      "execution_count": null,
      "outputs": [
        {
          "output_type": "execute_result",
          "data": {
            "text/plain": [
              "['', 'his func', 'ion will spli', ' words and make a lis', '']"
            ]
          },
          "metadata": {
            "tags": []
          },
          "execution_count": 11
        }
      ]
    },
    {
      "cell_type": "code",
      "metadata": {
        "id": "zEevkY2UGyjn",
        "colab": {
          "base_uri": "https://localhost:8080/",
          "height": 35
        },
        "outputId": "98a8ed09-58b1-443c-c348-7adbb51f3ed7"
      },
      "source": [
        "# default function will use space/tab\n",
        "\"this function will split words and make a list\".split()"
      ],
      "execution_count": null,
      "outputs": [
        {
          "output_type": "execute_result",
          "data": {
            "text/plain": [
              "['this', 'function', 'will', 'split', 'words', 'and', 'make', 'a', 'list']"
            ]
          },
          "metadata": {
            "tags": []
          },
          "execution_count": 12
        }
      ]
    },
    {
      "cell_type": "code",
      "metadata": {
        "id": "Ek_fQzJ0Fki7",
        "colab": {
          "base_uri": "https://localhost:8080/",
          "height": 35
        },
        "outputId": "38d6611b-d6b2-449a-c03a-d0041a6f609b"
      },
      "source": [
        "# according to the paramters passed (in this case, its ' ' just a normal space)\n",
        "' '.join(['this','does','the','opposite','of','split()'])"
      ],
      "execution_count": null,
      "outputs": [
        {
          "output_type": "execute_result",
          "data": {
            "application/vnd.google.colaboratory.intrinsic+json": {
              "type": "string"
            },
            "text/plain": [
              "'this does the opposite of split()'"
            ]
          },
          "metadata": {
            "tags": []
          },
          "execution_count": 13
        }
      ]
    },
    {
      "cell_type": "code",
      "metadata": {
        "id": "BkDhlpFmHaVG",
        "colab": {
          "base_uri": "https://localhost:8080/",
          "height": 35
        },
        "outputId": "dd69c87e-67d8-4214-f178-2695b697ed2e"
      },
      "source": [
        "# according to the paramters passed (in this case, its '_' )\n",
        "'_'.join(['this','does','the','opposite','of','split()'])"
      ],
      "execution_count": null,
      "outputs": [
        {
          "output_type": "execute_result",
          "data": {
            "application/vnd.google.colaboratory.intrinsic+json": {
              "type": "string"
            },
            "text/plain": [
              "'this_does_the_opposite_of_split()'"
            ]
          },
          "metadata": {
            "tags": []
          },
          "execution_count": 14
        }
      ]
    },
    {
      "cell_type": "code",
      "metadata": {
        "id": "nopQJYG8F0FC",
        "colab": {
          "base_uri": "https://localhost:8080/",
          "height": 35
        },
        "outputId": "0c0ba1e9-a2e6-4321-b40c-f57f20827e26"
      },
      "source": [
        "# returns the first occurence of the parameters that you passed\n",
        "\"Good morning\".find(\"mo\")"
      ],
      "execution_count": null,
      "outputs": [
        {
          "output_type": "execute_result",
          "data": {
            "text/plain": [
              "5"
            ]
          },
          "metadata": {
            "tags": []
          },
          "execution_count": 15
        }
      ]
    },
    {
      "cell_type": "code",
      "metadata": {
        "id": "uttZBd1vF5hj",
        "colab": {
          "base_uri": "https://localhost:8080/",
          "height": 52
        },
        "outputId": "abdc6684-042a-4fe2-be6b-a956a4d7c0c8"
      },
      "source": [
        "t = \"Bad morning\"\n",
        "t1 = t.replace(\"Bad\",\"Good\")\n",
        "print(t)\n",
        "print(t1)\n",
        "# \"bad morning\".replace(\"bad\",\"good\") also works"
      ],
      "execution_count": null,
      "outputs": [
        {
          "output_type": "stream",
          "text": [
            "Bad morning\n",
            "Good morning\n"
          ],
          "name": "stdout"
        }
      ]
    },
    {
      "cell_type": "code",
      "metadata": {
        "id": "IxJ9JMuOH_lT",
        "colab": {
          "base_uri": "https://localhost:8080/",
          "height": 156
        },
        "outputId": "44a1d0db-6836-406f-9bfc-d359ee5dba86"
      },
      "source": [
        "# sample example\n",
        "myStr = \"python Program to Sort words in Alphabetic Order\"\n",
        "\n",
        "# breakdown the string into list of words\n",
        "words = myStr.split()\n",
        "\n",
        "# sort the list\n",
        "words.sort()\n",
        "\n",
        "# print the sorted words\n",
        "for w in words:\n",
        "  print(w)"
      ],
      "execution_count": null,
      "outputs": [
        {
          "output_type": "stream",
          "text": [
            "Alphabetic\n",
            "Order\n",
            "Program\n",
            "Sort\n",
            "in\n",
            "python\n",
            "to\n",
            "words\n"
          ],
          "name": "stdout"
        }
      ]
    }
  ]
}