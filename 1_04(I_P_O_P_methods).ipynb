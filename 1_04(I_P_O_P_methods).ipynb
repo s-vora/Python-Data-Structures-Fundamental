{
  "nbformat": 4,
  "nbformat_minor": 0,
  "metadata": {
    "colab": {
      "name": "1.04(I/P-O/P-methods).ipynb",
      "provenance": [],
      "collapsed_sections": []
    },
    "kernelspec": {
      "name": "python3",
      "display_name": "Python 3"
    }
  },
  "cells": [
    {
      "cell_type": "markdown",
      "metadata": {
        "id": "UA_6Ki-hwguP"
      },
      "source": [
        "### OUTPUT"
      ]
    },
    {
      "cell_type": "code",
      "metadata": {
        "id": "z-oBeTERqaC-",
        "colab": {
          "base_uri": "https://localhost:8080/"
        },
        "outputId": "db48e1f1-8a93-4b39-a354-3ef81dc7a830"
      },
      "source": [
        "print(\"hello world\")"
      ],
      "execution_count": 1,
      "outputs": [
        {
          "output_type": "stream",
          "text": [
            "hello world\n"
          ],
          "name": "stdout"
        }
      ]
    },
    {
      "cell_type": "code",
      "metadata": {
        "id": "2OB5pTNEtpFQ",
        "colab": {
          "base_uri": "https://localhost:8080/"
        },
        "outputId": "9eecbde5-faff-4d65-bb53-6c0f3d72dbf2"
      },
      "source": [
        "a = 10\n",
        "print(\"the value of a is- \"+str(a))"
      ],
      "execution_count": 2,
      "outputs": [
        {
          "output_type": "stream",
          "text": [
            "the value of a is- 10\n"
          ],
          "name": "stdout"
        }
      ]
    },
    {
      "cell_type": "code",
      "metadata": {
        "id": "EDeY_1sjuHL4",
        "colab": {
          "base_uri": "https://localhost:8080/"
        },
        "outputId": "af7a10f0-4f2b-41f7-ee07-7b17f8fad879"
      },
      "source": [
        "a =5 ; b = 10;\n",
        "print(\"values are a:{} and b:{} \".format(a,b))\n",
        "print(\"again, we get a:{1} and b:{0}\".format(b,a))"
      ],
      "execution_count": 3,
      "outputs": [
        {
          "output_type": "stream",
          "text": [
            "values are a:5 and b:10 \n",
            "again, we get a:5 and b:10\n"
          ],
          "name": "stdout"
        }
      ]
    },
    {
      "cell_type": "code",
      "metadata": {
        "id": "87Lo83RJuT3Q",
        "colab": {
          "base_uri": "https://localhost:8080/"
        },
        "outputId": "a9ab3678-092b-44d8-d072-e14429a0b968"
      },
      "source": [
        "print(\"hello, {name}, {greeting}\".format(name = \"Sid\",greeting = \"how are you\"))"
      ],
      "execution_count": 4,
      "outputs": [
        {
          "output_type": "stream",
          "text": [
            "hello, Sid, how are you\n"
          ],
          "name": "stdout"
        }
      ]
    },
    {
      "cell_type": "code",
      "metadata": {
        "id": "GzRH-BqOupTo",
        "colab": {
          "base_uri": "https://localhost:8080/"
        },
        "outputId": "fc4488aa-e99e-4ac6-d419-e40181595702"
      },
      "source": [
        "print(\"the story of {1} and {name} and how they saved {0}\".format(\"brazil\",\"bill\",name = \"steve\"))"
      ],
      "execution_count": 5,
      "outputs": [
        {
          "output_type": "stream",
          "text": [
            "the story of bill and steve and how they saved brazil\n"
          ],
          "name": "stdout"
        }
      ]
    },
    {
      "cell_type": "markdown",
      "metadata": {
        "id": "0wW8XgTLvFhw"
      },
      "source": [
        "### **INPUT**"
      ]
    },
    {
      "cell_type": "code",
      "metadata": {
        "id": "9fKyQk1DvI4f",
        "colab": {
          "base_uri": "https://localhost:8080/"
        },
        "outputId": "93439332-e552-4dbc-fac4-5aaa1ec248b3"
      },
      "source": [
        "num = input()\n",
        "print(type(num))\n",
        "a = input(\"another method of inputting: \")\n",
        "print(\"num is {}\".format(num))\n",
        "print(\"a is \"+str(a))\n",
        "print(int(num+a)) # since both the values are 'strings' the + will concatenate them together as strings\n"
      ],
      "execution_count": 8,
      "outputs": [
        {
          "output_type": "stream",
          "text": [
            "23\n",
            "<class 'str'>\n",
            "another method of inputting: 55\n",
            "num is 23\n",
            "a is 55\n",
            "2355\n"
          ],
          "name": "stdout"
        }
      ]
    },
    {
      "cell_type": "code",
      "metadata": {
        "id": "FI0SoPqYsnqn",
        "colab": {
          "base_uri": "https://localhost:8080/"
        },
        "outputId": "c13b61be-12b1-478f-f00d-7f725ea3d574"
      },
      "source": [
        "print(\"enter 2 numbers to add:\")\n",
        "user1 = int(input())\n",
        "user2 = int(input())\n",
        "print(user1 + user2)"
      ],
      "execution_count": 9,
      "outputs": [
        {
          "output_type": "stream",
          "text": [
            "enter 2 numbers to add:\n",
            "34\n",
            "23\n",
            "57\n"
          ],
          "name": "stdout"
        }
      ]
    },
    {
      "cell_type": "code",
      "metadata": {
        "id": "3Fs8wDz2xJdp",
        "colab": {
          "base_uri": "https://localhost:8080/"
        },
        "outputId": "ffa54683-165f-48d3-94bb-393d0f98f4ff"
      },
      "source": [
        "print(\"enter your name: \")\n",
        "name = input()\n",
        "course = input(\"enter your majors: \")\n",
        "print(\"Hi, {}! Enjoy your {} majors\".format(name, course))"
      ],
      "execution_count": 10,
      "outputs": [
        {
          "output_type": "stream",
          "text": [
            "enter your name: \n",
            "Sid\n",
            "enter your majors: Computer Science\n",
            "Hi, Sid! Enjoy your Computer Science majors\n"
          ],
          "name": "stdout"
        }
      ]
    }
  ]
}